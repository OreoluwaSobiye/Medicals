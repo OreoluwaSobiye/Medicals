{
 "cells": [
  {
   "cell_type": "markdown",
   "metadata": {},
   "source": [
    "\n",
    "\n",
    "# Project: No-show appointments \n",
    "\n",
    "## Table of Contents\n",
    "<ul>\n",
    "<li><a href=\"#intro\">Introduction</a></li>\n",
    "<li><a href=\"#wrangling\">Data Wrangling</a></li>\n",
    "<li><a href=\"#eda\">Exploratory Data Analysis</a></li>\n",
    "<li><a href=\"#conclusions\">Conclusions</a></li>\n",
    "</ul>"
   ]
  },
  {
   "cell_type": "markdown",
   "metadata": {},
   "source": [
    "<a id='intro'></a>\n",
    "## Introduction\n",
    "\n",
    "  The No_show appointment dataset contains information from medical appointments in Brazil. The dataset is focused on whether or not patients show up for their appointment.\n",
    "\n",
    "#### Columns present in the dataset include :\n",
    "- Patientid\n",
    "- Appointmentid\n",
    "- Gender: The sex of the patient.\n",
    "- Scheduleday: tells us on what day the patient set up their appointment.\n",
    "- Apointmentday\n",
    "- Age \n",
    "- Neighborhood: indicates the location of the hospital.\n",
    "- Scholarship: indicates whether or not the patient is enrolled in Brazillian welfare program [Bolsa Familia]( https://en.wikipedia.org/wiki/Bolsa_Fam%C3%ADlia.\n",
    ").\n",
    "- Hipertension: indicates whether the patient is hypetensive or not.\n",
    "- Diabetes: indicates whether the patient is diabetic or not.\n",
    "- Alcoholism: indicates whether the patient is a drunk or not.\n",
    "- Handcap\n",
    "- Smsreceived\n",
    "- Noshow: indicates whether or not a patinet shows up.\n",
    "\n",
    "#### Questions ?\n",
    "- What gender and age show up for appointments ?\n",
    "- What neighbourhood has the highest and least attendance for appointments ? \n",
    "- What days are patients most likely to show up for their appointment ?\n",
    "- Are patients who reschedule their appointment most likely to show up ?\n",
    "\n",
    "\n"
   ]
  },
  {
   "cell_type": "code",
   "execution_count": 65,
   "metadata": {},
   "outputs": [],
   "source": [
    "import pandas as pd\n",
    "import numpy as np\n",
    "import matplotlib.pyplot as plt\n",
    "import seaborn as sns\n",
    "% matplotlib inline\n"
   ]
  },
  {
   "cell_type": "markdown",
   "metadata": {},
   "source": [
    "<a id='wrangling'></a>\n",
    "## Data Wrangling\n"
   ]
  },
  {
   "cell_type": "code",
   "execution_count": 66,
   "metadata": {},
   "outputs": [],
   "source": [
    "# Load your data and print out a few lines. Perform operations to inspect data\n",
    "#   types and look for instances of missing or possibly errant data.\n",
    "df = pd.read_csv('noshowappointments.csv')"
   ]
  },
  {
   "cell_type": "code",
   "execution_count": 67,
   "metadata": {},
   "outputs": [
    {
     "data": {
      "text/html": [
       "<div>\n",
       "<style scoped>\n",
       "    .dataframe tbody tr th:only-of-type {\n",
       "        vertical-align: middle;\n",
       "    }\n",
       "\n",
       "    .dataframe tbody tr th {\n",
       "        vertical-align: top;\n",
       "    }\n",
       "\n",
       "    .dataframe thead th {\n",
       "        text-align: right;\n",
       "    }\n",
       "</style>\n",
       "<table border=\"1\" class=\"dataframe\">\n",
       "  <thead>\n",
       "    <tr style=\"text-align: right;\">\n",
       "      <th></th>\n",
       "      <th>PatientId</th>\n",
       "      <th>AppointmentID</th>\n",
       "      <th>Gender</th>\n",
       "      <th>ScheduledDay</th>\n",
       "      <th>AppointmentDay</th>\n",
       "      <th>Age</th>\n",
       "      <th>Neighbourhood</th>\n",
       "      <th>Scholarship</th>\n",
       "      <th>Hipertension</th>\n",
       "      <th>Diabetes</th>\n",
       "      <th>Alcoholism</th>\n",
       "      <th>Handcap</th>\n",
       "      <th>SMS_received</th>\n",
       "      <th>No-show</th>\n",
       "    </tr>\n",
       "  </thead>\n",
       "  <tbody>\n",
       "    <tr>\n",
       "      <th>0</th>\n",
       "      <td>2.987250e+13</td>\n",
       "      <td>5642903</td>\n",
       "      <td>F</td>\n",
       "      <td>2016-04-29T18:38:08Z</td>\n",
       "      <td>2016-04-29T00:00:00Z</td>\n",
       "      <td>62</td>\n",
       "      <td>JARDIM DA PENHA</td>\n",
       "      <td>0</td>\n",
       "      <td>1</td>\n",
       "      <td>0</td>\n",
       "      <td>0</td>\n",
       "      <td>0</td>\n",
       "      <td>0</td>\n",
       "      <td>No</td>\n",
       "    </tr>\n",
       "    <tr>\n",
       "      <th>1</th>\n",
       "      <td>5.589978e+14</td>\n",
       "      <td>5642503</td>\n",
       "      <td>M</td>\n",
       "      <td>2016-04-29T16:08:27Z</td>\n",
       "      <td>2016-04-29T00:00:00Z</td>\n",
       "      <td>56</td>\n",
       "      <td>JARDIM DA PENHA</td>\n",
       "      <td>0</td>\n",
       "      <td>0</td>\n",
       "      <td>0</td>\n",
       "      <td>0</td>\n",
       "      <td>0</td>\n",
       "      <td>0</td>\n",
       "      <td>No</td>\n",
       "    </tr>\n",
       "    <tr>\n",
       "      <th>2</th>\n",
       "      <td>4.262962e+12</td>\n",
       "      <td>5642549</td>\n",
       "      <td>F</td>\n",
       "      <td>2016-04-29T16:19:04Z</td>\n",
       "      <td>2016-04-29T00:00:00Z</td>\n",
       "      <td>62</td>\n",
       "      <td>MATA DA PRAIA</td>\n",
       "      <td>0</td>\n",
       "      <td>0</td>\n",
       "      <td>0</td>\n",
       "      <td>0</td>\n",
       "      <td>0</td>\n",
       "      <td>0</td>\n",
       "      <td>No</td>\n",
       "    </tr>\n",
       "    <tr>\n",
       "      <th>3</th>\n",
       "      <td>8.679512e+11</td>\n",
       "      <td>5642828</td>\n",
       "      <td>F</td>\n",
       "      <td>2016-04-29T17:29:31Z</td>\n",
       "      <td>2016-04-29T00:00:00Z</td>\n",
       "      <td>8</td>\n",
       "      <td>PONTAL DE CAMBURI</td>\n",
       "      <td>0</td>\n",
       "      <td>0</td>\n",
       "      <td>0</td>\n",
       "      <td>0</td>\n",
       "      <td>0</td>\n",
       "      <td>0</td>\n",
       "      <td>No</td>\n",
       "    </tr>\n",
       "    <tr>\n",
       "      <th>4</th>\n",
       "      <td>8.841186e+12</td>\n",
       "      <td>5642494</td>\n",
       "      <td>F</td>\n",
       "      <td>2016-04-29T16:07:23Z</td>\n",
       "      <td>2016-04-29T00:00:00Z</td>\n",
       "      <td>56</td>\n",
       "      <td>JARDIM DA PENHA</td>\n",
       "      <td>0</td>\n",
       "      <td>1</td>\n",
       "      <td>1</td>\n",
       "      <td>0</td>\n",
       "      <td>0</td>\n",
       "      <td>0</td>\n",
       "      <td>No</td>\n",
       "    </tr>\n",
       "  </tbody>\n",
       "</table>\n",
       "</div>"
      ],
      "text/plain": [
       "      PatientId  AppointmentID Gender          ScheduledDay  \\\n",
       "0  2.987250e+13        5642903      F  2016-04-29T18:38:08Z   \n",
       "1  5.589978e+14        5642503      M  2016-04-29T16:08:27Z   \n",
       "2  4.262962e+12        5642549      F  2016-04-29T16:19:04Z   \n",
       "3  8.679512e+11        5642828      F  2016-04-29T17:29:31Z   \n",
       "4  8.841186e+12        5642494      F  2016-04-29T16:07:23Z   \n",
       "\n",
       "         AppointmentDay  Age      Neighbourhood  Scholarship  Hipertension  \\\n",
       "0  2016-04-29T00:00:00Z   62    JARDIM DA PENHA            0             1   \n",
       "1  2016-04-29T00:00:00Z   56    JARDIM DA PENHA            0             0   \n",
       "2  2016-04-29T00:00:00Z   62      MATA DA PRAIA            0             0   \n",
       "3  2016-04-29T00:00:00Z    8  PONTAL DE CAMBURI            0             0   \n",
       "4  2016-04-29T00:00:00Z   56    JARDIM DA PENHA            0             1   \n",
       "\n",
       "   Diabetes  Alcoholism  Handcap  SMS_received No-show  \n",
       "0         0           0        0             0      No  \n",
       "1         0           0        0             0      No  \n",
       "2         0           0        0             0      No  \n",
       "3         0           0        0             0      No  \n",
       "4         1           0        0             0      No  "
      ]
     },
     "execution_count": 67,
     "metadata": {},
     "output_type": "execute_result"
    }
   ],
   "source": [
    "df.head()"
   ]
  },
  {
   "cell_type": "code",
   "execution_count": 68,
   "metadata": {},
   "outputs": [
    {
     "name": "stdout",
     "output_type": "stream",
     "text": [
      "<class 'pandas.core.frame.DataFrame'>\n",
      "RangeIndex: 110527 entries, 0 to 110526\n",
      "Data columns (total 14 columns):\n",
      "PatientId         110527 non-null float64\n",
      "AppointmentID     110527 non-null int64\n",
      "Gender            110527 non-null object\n",
      "ScheduledDay      110527 non-null object\n",
      "AppointmentDay    110527 non-null object\n",
      "Age               110527 non-null int64\n",
      "Neighbourhood     110527 non-null object\n",
      "Scholarship       110527 non-null int64\n",
      "Hipertension      110527 non-null int64\n",
      "Diabetes          110527 non-null int64\n",
      "Alcoholism        110527 non-null int64\n",
      "Handcap           110527 non-null int64\n",
      "SMS_received      110527 non-null int64\n",
      "No-show           110527 non-null object\n",
      "dtypes: float64(1), int64(8), object(5)\n",
      "memory usage: 11.8+ MB\n"
     ]
    }
   ],
   "source": [
    "df.info()"
   ]
  },
  {
   "cell_type": "code",
   "execution_count": 69,
   "metadata": {},
   "outputs": [
    {
     "data": {
      "text/plain": [
       "PatientId         0\n",
       "AppointmentID     0\n",
       "Gender            0\n",
       "ScheduledDay      0\n",
       "AppointmentDay    0\n",
       "Age               0\n",
       "Neighbourhood     0\n",
       "Scholarship       0\n",
       "Hipertension      0\n",
       "Diabetes          0\n",
       "Alcoholism        0\n",
       "Handcap           0\n",
       "SMS_received      0\n",
       "No-show           0\n",
       "dtype: int64"
      ]
     },
     "execution_count": 69,
     "metadata": {},
     "output_type": "execute_result"
    }
   ],
   "source": [
    "df.isnull().sum()"
   ]
  },
  {
   "cell_type": "code",
   "execution_count": 70,
   "metadata": {},
   "outputs": [
    {
     "data": {
      "text/plain": [
       "0"
      ]
     },
     "execution_count": 70,
     "metadata": {},
     "output_type": "execute_result"
    }
   ],
   "source": [
    "df.duplicated().sum()"
   ]
  },
  {
   "cell_type": "code",
   "execution_count": 71,
   "metadata": {},
   "outputs": [
    {
     "data": {
      "text/plain": [
       "PatientId          62299\n",
       "AppointmentID     110527\n",
       "Gender                 2\n",
       "ScheduledDay      103549\n",
       "AppointmentDay        27\n",
       "Age                  104\n",
       "Neighbourhood         81\n",
       "Scholarship            2\n",
       "Hipertension           2\n",
       "Diabetes               2\n",
       "Alcoholism             2\n",
       "Handcap                5\n",
       "SMS_received           2\n",
       "No-show                2\n",
       "dtype: int64"
      ]
     },
     "execution_count": 71,
     "metadata": {},
     "output_type": "execute_result"
    }
   ],
   "source": [
    "df.nunique()"
   ]
  },
  {
   "cell_type": "code",
   "execution_count": 72,
   "metadata": {},
   "outputs": [
    {
     "data": {
      "text/html": [
       "<div>\n",
       "<style scoped>\n",
       "    .dataframe tbody tr th:only-of-type {\n",
       "        vertical-align: middle;\n",
       "    }\n",
       "\n",
       "    .dataframe tbody tr th {\n",
       "        vertical-align: top;\n",
       "    }\n",
       "\n",
       "    .dataframe thead th {\n",
       "        text-align: right;\n",
       "    }\n",
       "</style>\n",
       "<table border=\"1\" class=\"dataframe\">\n",
       "  <thead>\n",
       "    <tr style=\"text-align: right;\">\n",
       "      <th></th>\n",
       "      <th>PatientId</th>\n",
       "      <th>AppointmentID</th>\n",
       "      <th>Age</th>\n",
       "      <th>Scholarship</th>\n",
       "      <th>Hipertension</th>\n",
       "      <th>Diabetes</th>\n",
       "      <th>Alcoholism</th>\n",
       "      <th>Handcap</th>\n",
       "      <th>SMS_received</th>\n",
       "    </tr>\n",
       "  </thead>\n",
       "  <tbody>\n",
       "    <tr>\n",
       "      <th>count</th>\n",
       "      <td>1.105270e+05</td>\n",
       "      <td>1.105270e+05</td>\n",
       "      <td>110527.000000</td>\n",
       "      <td>110527.000000</td>\n",
       "      <td>110527.000000</td>\n",
       "      <td>110527.000000</td>\n",
       "      <td>110527.000000</td>\n",
       "      <td>110527.000000</td>\n",
       "      <td>110527.000000</td>\n",
       "    </tr>\n",
       "    <tr>\n",
       "      <th>mean</th>\n",
       "      <td>1.474963e+14</td>\n",
       "      <td>5.675305e+06</td>\n",
       "      <td>37.088874</td>\n",
       "      <td>0.098266</td>\n",
       "      <td>0.197246</td>\n",
       "      <td>0.071865</td>\n",
       "      <td>0.030400</td>\n",
       "      <td>0.022248</td>\n",
       "      <td>0.321026</td>\n",
       "    </tr>\n",
       "    <tr>\n",
       "      <th>std</th>\n",
       "      <td>2.560949e+14</td>\n",
       "      <td>7.129575e+04</td>\n",
       "      <td>23.110205</td>\n",
       "      <td>0.297675</td>\n",
       "      <td>0.397921</td>\n",
       "      <td>0.258265</td>\n",
       "      <td>0.171686</td>\n",
       "      <td>0.161543</td>\n",
       "      <td>0.466873</td>\n",
       "    </tr>\n",
       "    <tr>\n",
       "      <th>min</th>\n",
       "      <td>3.921784e+04</td>\n",
       "      <td>5.030230e+06</td>\n",
       "      <td>-1.000000</td>\n",
       "      <td>0.000000</td>\n",
       "      <td>0.000000</td>\n",
       "      <td>0.000000</td>\n",
       "      <td>0.000000</td>\n",
       "      <td>0.000000</td>\n",
       "      <td>0.000000</td>\n",
       "    </tr>\n",
       "    <tr>\n",
       "      <th>25%</th>\n",
       "      <td>4.172614e+12</td>\n",
       "      <td>5.640286e+06</td>\n",
       "      <td>18.000000</td>\n",
       "      <td>0.000000</td>\n",
       "      <td>0.000000</td>\n",
       "      <td>0.000000</td>\n",
       "      <td>0.000000</td>\n",
       "      <td>0.000000</td>\n",
       "      <td>0.000000</td>\n",
       "    </tr>\n",
       "    <tr>\n",
       "      <th>50%</th>\n",
       "      <td>3.173184e+13</td>\n",
       "      <td>5.680573e+06</td>\n",
       "      <td>37.000000</td>\n",
       "      <td>0.000000</td>\n",
       "      <td>0.000000</td>\n",
       "      <td>0.000000</td>\n",
       "      <td>0.000000</td>\n",
       "      <td>0.000000</td>\n",
       "      <td>0.000000</td>\n",
       "    </tr>\n",
       "    <tr>\n",
       "      <th>75%</th>\n",
       "      <td>9.439172e+13</td>\n",
       "      <td>5.725524e+06</td>\n",
       "      <td>55.000000</td>\n",
       "      <td>0.000000</td>\n",
       "      <td>0.000000</td>\n",
       "      <td>0.000000</td>\n",
       "      <td>0.000000</td>\n",
       "      <td>0.000000</td>\n",
       "      <td>1.000000</td>\n",
       "    </tr>\n",
       "    <tr>\n",
       "      <th>max</th>\n",
       "      <td>9.999816e+14</td>\n",
       "      <td>5.790484e+06</td>\n",
       "      <td>115.000000</td>\n",
       "      <td>1.000000</td>\n",
       "      <td>1.000000</td>\n",
       "      <td>1.000000</td>\n",
       "      <td>1.000000</td>\n",
       "      <td>4.000000</td>\n",
       "      <td>1.000000</td>\n",
       "    </tr>\n",
       "  </tbody>\n",
       "</table>\n",
       "</div>"
      ],
      "text/plain": [
       "          PatientId  AppointmentID            Age    Scholarship  \\\n",
       "count  1.105270e+05   1.105270e+05  110527.000000  110527.000000   \n",
       "mean   1.474963e+14   5.675305e+06      37.088874       0.098266   \n",
       "std    2.560949e+14   7.129575e+04      23.110205       0.297675   \n",
       "min    3.921784e+04   5.030230e+06      -1.000000       0.000000   \n",
       "25%    4.172614e+12   5.640286e+06      18.000000       0.000000   \n",
       "50%    3.173184e+13   5.680573e+06      37.000000       0.000000   \n",
       "75%    9.439172e+13   5.725524e+06      55.000000       0.000000   \n",
       "max    9.999816e+14   5.790484e+06     115.000000       1.000000   \n",
       "\n",
       "        Hipertension       Diabetes     Alcoholism        Handcap  \\\n",
       "count  110527.000000  110527.000000  110527.000000  110527.000000   \n",
       "mean        0.197246       0.071865       0.030400       0.022248   \n",
       "std         0.397921       0.258265       0.171686       0.161543   \n",
       "min         0.000000       0.000000       0.000000       0.000000   \n",
       "25%         0.000000       0.000000       0.000000       0.000000   \n",
       "50%         0.000000       0.000000       0.000000       0.000000   \n",
       "75%         0.000000       0.000000       0.000000       0.000000   \n",
       "max         1.000000       1.000000       1.000000       4.000000   \n",
       "\n",
       "        SMS_received  \n",
       "count  110527.000000  \n",
       "mean        0.321026  \n",
       "std         0.466873  \n",
       "min         0.000000  \n",
       "25%         0.000000  \n",
       "50%         0.000000  \n",
       "75%         1.000000  \n",
       "max         1.000000  "
      ]
     },
     "execution_count": 72,
     "metadata": {},
     "output_type": "execute_result"
    }
   ],
   "source": [
    "df.describe()"
   ]
  },
  {
   "cell_type": "markdown",
   "metadata": {},
   "source": [
    "#### It is observed that there are no null values. There are no unique appointmentid but there are 62299 patientid unique values, this could only mean that some patients booked more than one appointment.\n",
    "\n"
   ]
  },
  {
   "cell_type": "markdown",
   "metadata": {},
   "source": [
    "### Data Cleaning\n",
    "\n",
    "It is observed that:\n",
    "- the column names are wrongly spelt and the column names are not in lower case. \n",
    "- the Patientid data type is in float instead of integer. \n",
    "- the scheduledday and appointmentday are in the wrong data type.\n",
    "- the minimum age is a negative number.\n",
    "- the data type of scholarship, hipertension, diabetes, alcoholism are in integer instead of boolean.\n",
    "- the column appointmentid should be dropped. It gives no relevant information.\n"
   ]
  },
  {
   "cell_type": "code",
   "execution_count": 73,
   "metadata": {},
   "outputs": [],
   "source": [
    "# After discussing the structure of the data and any problems that need to be\n",
    "#   cleaned, perform those cleaning steps in the second part of this section.\n",
    "df.columns = df.columns.str.lower()"
   ]
  },
  {
   "cell_type": "code",
   "execution_count": 74,
   "metadata": {},
   "outputs": [],
   "source": [
    "# renaming columns\n",
    "df.rename(columns = {'patientid':'patient_id','appointmentid':'appointment_id','scheduledday':'scheduled_day', 'appointmentday':'appointment_day','hipertenson':'hypertensive', 'handcap':'handicap', 'diabetes': 'diabetic', 'alcoholism':'alcoholic', 'no-show':'no_show'}, inplace = True)"
   ]
  },
  {
   "cell_type": "markdown",
   "metadata": {},
   "source": [
    "The column names were changed to lower case for easy accessibility. The columns headings were renamed."
   ]
  },
  {
   "cell_type": "code",
   "execution_count": 75,
   "metadata": {},
   "outputs": [],
   "source": [
    "# changing the patientid data type to integer\n",
    "\n",
    "df.patient_id = df.patient_id.astype('int')\n",
    "df.patient_id = df['patient_id'].apply(abs)"
   ]
  },
  {
   "cell_type": "code",
   "execution_count": 76,
   "metadata": {},
   "outputs": [],
   "source": [
    "# changing the case of neighbourhood column \n",
    "df.neighbourhood = df.neighbourhood.str.title()"
   ]
  },
  {
   "cell_type": "code",
   "execution_count": 77,
   "metadata": {},
   "outputs": [],
   "source": [
    "# changing the type of scheduleday and appointmentday to timestamp\n",
    "df['scheduled_day'] = pd.to_datetime(df['scheduled_day'])\n",
    "\n",
    "df['appointment_day'] =  pd.to_datetime(df['appointment_day'])"
   ]
  },
  {
   "cell_type": "code",
   "execution_count": 78,
   "metadata": {},
   "outputs": [],
   "source": [
    "df['age'] = df['age'].replace(-1,0)"
   ]
  },
  {
   "cell_type": "markdown",
   "metadata": {},
   "source": [
    "It is impossible to have a negative value for age. The least age sholud be 0."
   ]
  },
  {
   "cell_type": "code",
   "execution_count": 79,
   "metadata": {},
   "outputs": [
    {
     "name": "stdout",
     "output_type": "stream",
     "text": [
      "<class 'pandas.core.frame.DataFrame'>\n",
      "RangeIndex: 110527 entries, 0 to 110526\n",
      "Data columns (total 14 columns):\n",
      "patient_id         110527 non-null int64\n",
      "appointment_id     110527 non-null int64\n",
      "gender             110527 non-null object\n",
      "scheduled_day      110527 non-null datetime64[ns]\n",
      "appointment_day    110527 non-null datetime64[ns]\n",
      "age                110527 non-null int64\n",
      "neighbourhood      110527 non-null object\n",
      "scholarship        110527 non-null int64\n",
      "hipertension       110527 non-null int64\n",
      "diabetic           110527 non-null int64\n",
      "alcoholic          110527 non-null int64\n",
      "handicap           110527 non-null int64\n",
      "sms_received       110527 non-null int64\n",
      "no_show            110527 non-null object\n",
      "dtypes: datetime64[ns](2), int64(9), object(3)\n",
      "memory usage: 11.8+ MB\n"
     ]
    }
   ],
   "source": [
    "df.info()"
   ]
  },
  {
   "cell_type": "code",
   "execution_count": 80,
   "metadata": {},
   "outputs": [
    {
     "data": {
      "text/html": [
       "<div>\n",
       "<style scoped>\n",
       "    .dataframe tbody tr th:only-of-type {\n",
       "        vertical-align: middle;\n",
       "    }\n",
       "\n",
       "    .dataframe tbody tr th {\n",
       "        vertical-align: top;\n",
       "    }\n",
       "\n",
       "    .dataframe thead th {\n",
       "        text-align: right;\n",
       "    }\n",
       "</style>\n",
       "<table border=\"1\" class=\"dataframe\">\n",
       "  <thead>\n",
       "    <tr style=\"text-align: right;\">\n",
       "      <th></th>\n",
       "      <th>patient_id</th>\n",
       "      <th>appointment_id</th>\n",
       "      <th>gender</th>\n",
       "      <th>scheduled_day</th>\n",
       "      <th>appointment_day</th>\n",
       "      <th>age</th>\n",
       "      <th>neighbourhood</th>\n",
       "      <th>scholarship</th>\n",
       "      <th>hipertension</th>\n",
       "      <th>diabetic</th>\n",
       "      <th>alcoholic</th>\n",
       "      <th>handicap</th>\n",
       "      <th>sms_received</th>\n",
       "      <th>no_show</th>\n",
       "    </tr>\n",
       "  </thead>\n",
       "  <tbody>\n",
       "    <tr>\n",
       "      <th>0</th>\n",
       "      <td>29872499824296</td>\n",
       "      <td>5642903</td>\n",
       "      <td>F</td>\n",
       "      <td>2016-04-29 18:38:08</td>\n",
       "      <td>2016-04-29</td>\n",
       "      <td>62</td>\n",
       "      <td>Jardim Da Penha</td>\n",
       "      <td>0</td>\n",
       "      <td>1</td>\n",
       "      <td>0</td>\n",
       "      <td>0</td>\n",
       "      <td>0</td>\n",
       "      <td>0</td>\n",
       "      <td>No</td>\n",
       "    </tr>\n",
       "    <tr>\n",
       "      <th>1</th>\n",
       "      <td>558997776694438</td>\n",
       "      <td>5642503</td>\n",
       "      <td>M</td>\n",
       "      <td>2016-04-29 16:08:27</td>\n",
       "      <td>2016-04-29</td>\n",
       "      <td>56</td>\n",
       "      <td>Jardim Da Penha</td>\n",
       "      <td>0</td>\n",
       "      <td>0</td>\n",
       "      <td>0</td>\n",
       "      <td>0</td>\n",
       "      <td>0</td>\n",
       "      <td>0</td>\n",
       "      <td>No</td>\n",
       "    </tr>\n",
       "    <tr>\n",
       "      <th>2</th>\n",
       "      <td>4262962299951</td>\n",
       "      <td>5642549</td>\n",
       "      <td>F</td>\n",
       "      <td>2016-04-29 16:19:04</td>\n",
       "      <td>2016-04-29</td>\n",
       "      <td>62</td>\n",
       "      <td>Mata Da Praia</td>\n",
       "      <td>0</td>\n",
       "      <td>0</td>\n",
       "      <td>0</td>\n",
       "      <td>0</td>\n",
       "      <td>0</td>\n",
       "      <td>0</td>\n",
       "      <td>No</td>\n",
       "    </tr>\n",
       "    <tr>\n",
       "      <th>3</th>\n",
       "      <td>867951213174</td>\n",
       "      <td>5642828</td>\n",
       "      <td>F</td>\n",
       "      <td>2016-04-29 17:29:31</td>\n",
       "      <td>2016-04-29</td>\n",
       "      <td>8</td>\n",
       "      <td>Pontal De Camburi</td>\n",
       "      <td>0</td>\n",
       "      <td>0</td>\n",
       "      <td>0</td>\n",
       "      <td>0</td>\n",
       "      <td>0</td>\n",
       "      <td>0</td>\n",
       "      <td>No</td>\n",
       "    </tr>\n",
       "    <tr>\n",
       "      <th>4</th>\n",
       "      <td>8841186448183</td>\n",
       "      <td>5642494</td>\n",
       "      <td>F</td>\n",
       "      <td>2016-04-29 16:07:23</td>\n",
       "      <td>2016-04-29</td>\n",
       "      <td>56</td>\n",
       "      <td>Jardim Da Penha</td>\n",
       "      <td>0</td>\n",
       "      <td>1</td>\n",
       "      <td>1</td>\n",
       "      <td>0</td>\n",
       "      <td>0</td>\n",
       "      <td>0</td>\n",
       "      <td>No</td>\n",
       "    </tr>\n",
       "  </tbody>\n",
       "</table>\n",
       "</div>"
      ],
      "text/plain": [
       "        patient_id  appointment_id gender       scheduled_day appointment_day  \\\n",
       "0   29872499824296         5642903      F 2016-04-29 18:38:08      2016-04-29   \n",
       "1  558997776694438         5642503      M 2016-04-29 16:08:27      2016-04-29   \n",
       "2    4262962299951         5642549      F 2016-04-29 16:19:04      2016-04-29   \n",
       "3     867951213174         5642828      F 2016-04-29 17:29:31      2016-04-29   \n",
       "4    8841186448183         5642494      F 2016-04-29 16:07:23      2016-04-29   \n",
       "\n",
       "   age      neighbourhood  scholarship  hipertension  diabetic  alcoholic  \\\n",
       "0   62    Jardim Da Penha            0             1         0          0   \n",
       "1   56    Jardim Da Penha            0             0         0          0   \n",
       "2   62      Mata Da Praia            0             0         0          0   \n",
       "3    8  Pontal De Camburi            0             0         0          0   \n",
       "4   56    Jardim Da Penha            0             1         1          0   \n",
       "\n",
       "   handicap  sms_received no_show  \n",
       "0         0             0      No  \n",
       "1         0             0      No  \n",
       "2         0             0      No  \n",
       "3         0             0      No  \n",
       "4         0             0      No  "
      ]
     },
     "execution_count": 80,
     "metadata": {},
     "output_type": "execute_result"
    }
   ],
   "source": [
    "df.head()"
   ]
  },
  {
   "cell_type": "code",
   "execution_count": 81,
   "metadata": {},
   "outputs": [],
   "source": [
    "# dropping appointmet_id\n",
    "df.drop(columns = ['appointment_id'] , inplace = True)"
   ]
  },
  {
   "cell_type": "code",
   "execution_count": 82,
   "metadata": {},
   "outputs": [],
   "source": [
    "# changing the data type from integer to boolean.\n",
    "c = ['scholarship', 'hipertension', 'diabetic', 'alcoholic', 'handicap', 'sms_received']\n",
    "df[c] = df[c].apply(lambda x: x.astype('bool'))"
   ]
  },
  {
   "cell_type": "markdown",
   "metadata": {},
   "source": [
    "The data type of the following columns were changed so as not to create confusion. The data types changed to boolean will be easily understood."
   ]
  },
  {
   "cell_type": "code",
   "execution_count": 83,
   "metadata": {},
   "outputs": [
    {
     "data": {
      "text/plain": [
       "0         F\n",
       "1         M\n",
       "2         F\n",
       "3         F\n",
       "4         F\n",
       "5         F\n",
       "6         F\n",
       "7         F\n",
       "8         F\n",
       "9         F\n",
       "10        F\n",
       "11        M\n",
       "12        F\n",
       "13        M\n",
       "14        F\n",
       "15        F\n",
       "16        M\n",
       "17        F\n",
       "18        F\n",
       "19        F\n",
       "20        F\n",
       "21        F\n",
       "22        M\n",
       "23        F\n",
       "24        F\n",
       "25        M\n",
       "26        F\n",
       "27        F\n",
       "28        M\n",
       "29        F\n",
       "         ..\n",
       "110497    M\n",
       "110498    F\n",
       "110499    F\n",
       "110500    F\n",
       "110501    M\n",
       "110502    F\n",
       "110503    F\n",
       "110504    F\n",
       "110505    F\n",
       "110506    M\n",
       "110507    F\n",
       "110508    F\n",
       "110509    M\n",
       "110510    F\n",
       "110511    F\n",
       "110512    F\n",
       "110513    M\n",
       "110514    F\n",
       "110515    M\n",
       "110516    F\n",
       "110517    F\n",
       "110518    F\n",
       "110519    F\n",
       "110520    F\n",
       "110521    F\n",
       "110522    F\n",
       "110523    F\n",
       "110524    F\n",
       "110525    F\n",
       "110526    F\n",
       "Name: gender, Length: 110527, dtype: category\n",
       "Categories (2, object): [F, M]"
      ]
     },
     "execution_count": 83,
     "metadata": {},
     "output_type": "execute_result"
    }
   ],
   "source": [
    "# changing the data type to category\n",
    "df['gender'].astype('category')"
   ]
  },
  {
   "cell_type": "code",
   "execution_count": 84,
   "metadata": {},
   "outputs": [
    {
     "name": "stdout",
     "output_type": "stream",
     "text": [
      "<class 'pandas.core.frame.DataFrame'>\n",
      "RangeIndex: 110527 entries, 0 to 110526\n",
      "Data columns (total 13 columns):\n",
      "patient_id         110527 non-null int64\n",
      "gender             110527 non-null object\n",
      "scheduled_day      110527 non-null datetime64[ns]\n",
      "appointment_day    110527 non-null datetime64[ns]\n",
      "age                110527 non-null int64\n",
      "neighbourhood      110527 non-null object\n",
      "scholarship        110527 non-null bool\n",
      "hipertension       110527 non-null bool\n",
      "diabetic           110527 non-null bool\n",
      "alcoholic          110527 non-null bool\n",
      "handicap           110527 non-null bool\n",
      "sms_received       110527 non-null bool\n",
      "no_show            110527 non-null object\n",
      "dtypes: bool(6), datetime64[ns](2), int64(2), object(3)\n",
      "memory usage: 6.5+ MB\n"
     ]
    }
   ],
   "source": [
    "df.info()"
   ]
  },
  {
   "cell_type": "code",
   "execution_count": 85,
   "metadata": {},
   "outputs": [
    {
     "data": {
      "text/html": [
       "<div>\n",
       "<style scoped>\n",
       "    .dataframe tbody tr th:only-of-type {\n",
       "        vertical-align: middle;\n",
       "    }\n",
       "\n",
       "    .dataframe tbody tr th {\n",
       "        vertical-align: top;\n",
       "    }\n",
       "\n",
       "    .dataframe thead th {\n",
       "        text-align: right;\n",
       "    }\n",
       "</style>\n",
       "<table border=\"1\" class=\"dataframe\">\n",
       "  <thead>\n",
       "    <tr style=\"text-align: right;\">\n",
       "      <th></th>\n",
       "      <th>patient_id</th>\n",
       "      <th>age</th>\n",
       "    </tr>\n",
       "  </thead>\n",
       "  <tbody>\n",
       "    <tr>\n",
       "      <th>count</th>\n",
       "      <td>1.105270e+05</td>\n",
       "      <td>110527.000000</td>\n",
       "    </tr>\n",
       "    <tr>\n",
       "      <th>mean</th>\n",
       "      <td>1.474963e+14</td>\n",
       "      <td>37.088883</td>\n",
       "    </tr>\n",
       "    <tr>\n",
       "      <th>std</th>\n",
       "      <td>2.560949e+14</td>\n",
       "      <td>23.110190</td>\n",
       "    </tr>\n",
       "    <tr>\n",
       "      <th>min</th>\n",
       "      <td>3.921700e+04</td>\n",
       "      <td>0.000000</td>\n",
       "    </tr>\n",
       "    <tr>\n",
       "      <th>25%</th>\n",
       "      <td>4.172614e+12</td>\n",
       "      <td>18.000000</td>\n",
       "    </tr>\n",
       "    <tr>\n",
       "      <th>50%</th>\n",
       "      <td>3.173184e+13</td>\n",
       "      <td>37.000000</td>\n",
       "    </tr>\n",
       "    <tr>\n",
       "      <th>75%</th>\n",
       "      <td>9.439172e+13</td>\n",
       "      <td>55.000000</td>\n",
       "    </tr>\n",
       "    <tr>\n",
       "      <th>max</th>\n",
       "      <td>9.999816e+14</td>\n",
       "      <td>115.000000</td>\n",
       "    </tr>\n",
       "  </tbody>\n",
       "</table>\n",
       "</div>"
      ],
      "text/plain": [
       "         patient_id            age\n",
       "count  1.105270e+05  110527.000000\n",
       "mean   1.474963e+14      37.088883\n",
       "std    2.560949e+14      23.110190\n",
       "min    3.921700e+04       0.000000\n",
       "25%    4.172614e+12      18.000000\n",
       "50%    3.173184e+13      37.000000\n",
       "75%    9.439172e+13      55.000000\n",
       "max    9.999816e+14     115.000000"
      ]
     },
     "execution_count": 85,
     "metadata": {},
     "output_type": "execute_result"
    }
   ],
   "source": [
    "df.describe()"
   ]
  },
  {
   "cell_type": "markdown",
   "metadata": {},
   "source": [
    "<a id='eda'></a>\n",
    "## Exploratory Data Analysis"
   ]
  },
  {
   "cell_type": "code",
   "execution_count": 86,
   "metadata": {},
   "outputs": [
    {
     "data": {
      "text/plain": [
       "No     88208\n",
       "Yes    22319\n",
       "Name: no_show, dtype: int64"
      ]
     },
     "execution_count": 86,
     "metadata": {},
     "output_type": "execute_result"
    }
   ],
   "source": [
    "# Total number of missed and not missed appointments \n",
    "df['no_show'].value_counts()"
   ]
  },
  {
   "cell_type": "code",
   "execution_count": 87,
   "metadata": {},
   "outputs": [],
   "source": [
    "# Subset of data showing patients that showed up for their appointment.\n",
    "df_yes = df[df['no_show']== 'Yes']"
   ]
  },
  {
   "cell_type": "code",
   "execution_count": 88,
   "metadata": {},
   "outputs": [],
   "source": [
    "# subset of data showing patients that did not show up for appointments\n",
    "df_no = df[df['no_show']== 'No']"
   ]
  },
  {
   "cell_type": "markdown",
   "metadata": {},
   "source": [
    "## Gender\n",
    "  "
   ]
  },
  {
   "cell_type": "code",
   "execution_count": 89,
   "metadata": {},
   "outputs": [
    {
     "data": {
      "text/plain": [
       "gender\n",
       "F    71840\n",
       "M    38687\n",
       "Name: no_show, dtype: int64"
      ]
     },
     "execution_count": 89,
     "metadata": {},
     "output_type": "execute_result"
    }
   ],
   "source": [
    "# Number of booked appointments per gender\n",
    "df.groupby('gender')['no_show'].count()"
   ]
  },
  {
   "cell_type": "code",
   "execution_count": 90,
   "metadata": {},
   "outputs": [],
   "source": [
    "# visualizing the number of appointments per gender\n",
    "def bar_by(x , y, size, x_label,y_label, z):\n",
    "    # A function to draw a bar chart\n",
    "    df[x].value_counts().plot(kind = y , figsize = size)\n",
    "    plt.xlabel(x_label)\n",
    "    plt.ylabel(y_label)\n",
    "    plt.title(z)"
   ]
  },
  {
   "cell_type": "code",
   "execution_count": 91,
   "metadata": {},
   "outputs": [
    {
     "data": {
      "image/png": "[encoded data removed]",
      "text/plain": [
       "<matplotlib.figure.Figure at 0x7f1bd8bd1da0>"
      ]
     },
     "metadata": {
      "needs_background": "light"
     },
     "output_type": "display_data"
    }
   ],
   "source": [
    "bar_by('gender', 'bar', (8,8), 'gender', 'number of appointments', 'Total appointments')"
   ]
  },
  {
   "cell_type": "markdown",
   "metadata": {},
   "source": [
    "It is observed that females book more appointments than males."
   ]
  },
  {
   "cell_type": "code",
   "execution_count": 104,
   "metadata": {},
   "outputs": [],
   "source": [
    "def countplot( size, x_label , y_label, c, name):\n",
    "    # A function to draw a countplot\n",
    "    plt.figure(figsize = size)\n",
    "    sns.countplot(x = x_label, hue = y_label, data = c)\n",
    "    plt.title(name)"
   ]
  },
  {
   "cell_type": "code",
   "execution_count": 105,
   "metadata": {},
   "outputs": [
    {
     "data": {
      "image/png": "[encoded data removed]",
      "text/plain": [
       "<matplotlib.figure.Figure at 0x7f1bd877f8d0>"
      ]
     },
     "metadata": {
      "needs_background": "light"
     },
     "output_type": "display_data"
    }
   ],
   "source": [
    "countplot( (10,10),'no_show', 'gender', df, 'Number of no_show appointments per gender' )"
   ]
  },
  {
   "cell_type": "markdown",
   "metadata": {},
   "source": [
    "#### The chart above shows that the number of missed appointments for both genders is higehr then the number of appointments that patients showed up for. The female gender tops the bar for both the missed appointment and appointments not missed."
   ]
  },
  {
   "cell_type": "code",
   "execution_count": 93,
   "metadata": {},
   "outputs": [
    {
     "data": {
      "text/plain": [
       "gender\n",
       "F    14594\n",
       "M     7725\n",
       "Name: no_show, dtype: int64"
      ]
     },
     "execution_count": 93,
     "metadata": {},
     "output_type": "execute_result"
    }
   ],
   "source": [
    "# The number of females to males that showed up for their appointment.\n",
    "df_yes.groupby('gender')['no_show'].count()"
   ]
  },
  {
   "cell_type": "code",
   "execution_count": 94,
   "metadata": {},
   "outputs": [
    {
     "data": {
      "text/plain": [
       "gender\n",
       "F    57246\n",
       "M    30962\n",
       "Name: no_show, dtype: int64"
      ]
     },
     "execution_count": 94,
     "metadata": {},
     "output_type": "execute_result"
    }
   ],
   "source": [
    "# number of missed appointments per gender\n",
    "df_no.groupby('gender')['no_show'].count()"
   ]
  },
  {
   "cell_type": "code",
   "execution_count": 95,
   "metadata": {},
   "outputs": [
    {
     "data": {
      "text/plain": [
       "gender\n",
       "F    71840\n",
       "M    38687\n",
       "Name: scholarship, dtype: int64"
      ]
     },
     "execution_count": 95,
     "metadata": {},
     "output_type": "execute_result"
    }
   ],
   "source": [
    "df.groupby('gender')['scholarship'].count()"
   ]
  },
  {
   "cell_type": "code",
   "execution_count": 96,
   "metadata": {},
   "outputs": [
    {
     "data": {
      "text/plain": [
       "False    99666\n",
       "True     10861\n",
       "Name: scholarship, dtype: int64"
      ]
     },
     "execution_count": 96,
     "metadata": {},
     "output_type": "execute_result"
    }
   ],
   "source": [
    "#count of scholarship\n",
    "df.scholarship.value_counts()"
   ]
  },
  {
   "cell_type": "code",
   "execution_count": 106,
   "metadata": {},
   "outputs": [
    {
     "data": {
      "image/png": "[encoded data removed]",
      "text/plain": [
       "<matplotlib.figure.Figure at 0x7f1bd881f898>"
      ]
     },
     "metadata": {
      "needs_background": "light"
     },
     "output_type": "display_data"
    }
   ],
   "source": [
    "# relationship between gender and scholarship\n",
    "countplot( (8,8),'scholarship', 'gender', df, 'Relation ship between gender and scholarship' )"
   ]
  },
  {
   "cell_type": "markdown",
   "metadata": {},
   "source": [
    "### It is observed that very few number of patients received scholarships in total. SInce the number of females to males that booked an appoinment is high, the number of females who received a scholarship should also be higher. This is well represented in the chart above."
   ]
  },
  {
   "cell_type": "markdown",
   "metadata": {},
   "source": [
    "## Neighbourhood"
   ]
  },
  {
   "cell_type": "code",
   "execution_count": 98,
   "metadata": {},
   "outputs": [
    {
     "data": {
      "text/plain": [
       "Jardim Camburi                 7717\n",
       "Maria Ortiz                    5805\n",
       "Resistência                    4431\n",
       "Jardim Da Penha                3877\n",
       "Itararé                        3514\n",
       "Centro                         3334\n",
       "Tabuazeiro                     3132\n",
       "Santa Martha                   3131\n",
       "Jesus De Nazareth              2853\n",
       "Bonfim                         2773\n",
       "Santo Antônio                  2746\n",
       "Santo André                    2571\n",
       "Caratoíra                      2565\n",
       "Jabour                         2509\n",
       "São Pedro                      2448\n",
       "Ilha Do Príncipe               2266\n",
       "Nova Palestina                 2264\n",
       "Andorinhas                     2262\n",
       "Da Penha                       2217\n",
       "Romão                          2215\n",
       "Gurigica                       2018\n",
       "São José                       1977\n",
       "Bela Vista                     1907\n",
       "Maruípe                        1902\n",
       "Forte São João                 1889\n",
       "Ilha De Santa Maria            1885\n",
       "São Cristóvão                  1836\n",
       "Redenção                       1553\n",
       "São Benedito                   1439\n",
       "Joana D´Arc                    1427\n",
       "                               ... \n",
       "Santos Reis                     547\n",
       "Estrelinha                      538\n",
       "Santa Clara                     506\n",
       "Solon Borges                    469\n",
       "Piedade                         452\n",
       "Santa Cecília                   448\n",
       "Santa Lúcia                     438\n",
       "Santa Luíza                     428\n",
       "Barro Vermelho                  423\n",
       "Do Moscoso                      413\n",
       "Mário Cypreste                  371\n",
       "Boa Vista                       312\n",
       "Comdusa                         310\n",
       "De Lourdes                      305\n",
       "Ariovaldo Favalessa             282\n",
       "Antônio Honório                 271\n",
       "Fradinhos                       258\n",
       "Enseada Do Suá                  235\n",
       "Santa Helena                    178\n",
       "Horto                           175\n",
       "Universitário                   152\n",
       "Segurança Do Lar                145\n",
       "Nazareth                        135\n",
       "Morada De Camburi                96\n",
       "Pontal De Camburi                69\n",
       "Ilha Do Boi                      35\n",
       "Ilha Do Frade                    10\n",
       "Aeroporto                         8\n",
       "Ilhas Oceânicas De Trindade       2\n",
       "Parque Industrial                 1\n",
       "Name: neighbourhood, Length: 81, dtype: int64"
      ]
     },
     "execution_count": 98,
     "metadata": {},
     "output_type": "execute_result"
    }
   ],
   "source": [
    "# number of appoinments per neiighbourhood\n",
    "df.neighbourhood.value_counts()"
   ]
  },
  {
   "cell_type": "code",
   "execution_count": 100,
   "metadata": {},
   "outputs": [
    {
     "data": {
      "image/png": "[encoded data removed]",
      "text/plain": [
       "<matplotlib.figure.Figure at 0x7f1bd88f7048>"
      ]
     },
     "metadata": {
      "needs_background": "light"
     },
     "output_type": "display_data"
    }
   ],
   "source": [
    "# visualizing number of appointments per neighbourhood\n",
    "bar_by('neighbourhood', 'barh', (15,20), 'Number of appointments', 'Neighbourhood', 'Number of appointments per neighbourhood')"
   ]
  },
  {
   "cell_type": "code",
   "execution_count": 37,
   "metadata": {},
   "outputs": [
    {
     "data": {
      "text/plain": [
       "Jardim Camburi                 1465\n",
       "Maria Ortiz                    1219\n",
       "Itararé                         923\n",
       "Resistência                     906\n",
       "Centro                          703\n",
       "Jesus De Nazareth               696\n",
       "Jardim Da Penha                 631\n",
       "Caratoíra                       591\n",
       "Tabuazeiro                      573\n",
       "Bonfim                          550\n",
       "Ilha Do Príncipe                532\n",
       "Andorinhas                      521\n",
       "São Pedro                       515\n",
       "Santo André                     508\n",
       "Santa Martha                    496\n",
       "Santo Antônio                   484\n",
       "Romão                           474\n",
       "Gurigica                        456\n",
       "Jabour                          451\n",
       "Da Penha                        429\n",
       "São José                        428\n",
       "Maruípe                         424\n",
       "Nova Palestina                  402\n",
       "Bela Vista                      384\n",
       "Santos Dumont                   369\n",
       "São Cristóvão                   363\n",
       "Ilha De Santa Maria             361\n",
       "Forte São João                  346\n",
       "Cruzamento                      304\n",
       "Praia Do Suá                    294\n",
       "                               ... \n",
       "Santa Cecília                   123\n",
       "Santos Reis                     112\n",
       "Mata Da Praia                   110\n",
       "Estrelinha                      106\n",
       "Do Moscoso                       92\n",
       "Barro Vermelho                   91\n",
       "Do Cabral                        88\n",
       "Piedade                          88\n",
       "Santa Lúcia                      86\n",
       "Santa Luíza                      77\n",
       "Solon Borges                     69\n",
       "Ariovaldo Favalessa              62\n",
       "Boa Vista                        58\n",
       "Comdusa                          56\n",
       "Mário Cypreste                   54\n",
       "Enseada Do Suá                   52\n",
       "Antônio Honório                  50\n",
       "Fradinhos                        48\n",
       "De Lourdes                       47\n",
       "Horto                            42\n",
       "Santa Helena                     37\n",
       "Universitário                    32\n",
       "Nazareth                         29\n",
       "Segurança Do Lar                 28\n",
       "Morada De Camburi                16\n",
       "Pontal De Camburi                12\n",
       "Ilha Do Boi                       3\n",
       "Ilha Do Frade                     2\n",
       "Ilhas Oceânicas De Trindade       2\n",
       "Aeroporto                         1\n",
       "Name: neighbourhood, Length: 80, dtype: int64"
      ]
     },
     "execution_count": 37,
     "metadata": {},
     "output_type": "execute_result"
    }
   ],
   "source": [
    "df_yes['neighbourhood'].value_counts()"
   ]
  },
  {
   "cell_type": "code",
   "execution_count": 38,
   "metadata": {},
   "outputs": [
    {
     "data": {
      "text/html": [
       "<div>\n",
       "<style scoped>\n",
       "    .dataframe tbody tr th:only-of-type {\n",
       "        vertical-align: middle;\n",
       "    }\n",
       "\n",
       "    .dataframe tbody tr th {\n",
       "        vertical-align: top;\n",
       "    }\n",
       "\n",
       "    .dataframe thead th {\n",
       "        text-align: right;\n",
       "    }\n",
       "</style>\n",
       "<table border=\"1\" class=\"dataframe\">\n",
       "  <thead>\n",
       "    <tr style=\"text-align: right;\">\n",
       "      <th></th>\n",
       "      <th>patient_id</th>\n",
       "      <th>gender</th>\n",
       "      <th>scheduled_day</th>\n",
       "      <th>appointment_day</th>\n",
       "      <th>age</th>\n",
       "      <th>neighbourhood</th>\n",
       "      <th>scholarship</th>\n",
       "      <th>hipertension</th>\n",
       "      <th>diabetic</th>\n",
       "      <th>alcoholic</th>\n",
       "      <th>handicap</th>\n",
       "      <th>sms_received</th>\n",
       "      <th>no_show</th>\n",
       "    </tr>\n",
       "  </thead>\n",
       "  <tbody>\n",
       "    <tr>\n",
       "      <th>75199</th>\n",
       "      <td>8255992453538</td>\n",
       "      <td>F</td>\n",
       "      <td>2016-05-05 10:48:59</td>\n",
       "      <td>2016-05-05</td>\n",
       "      <td>17</td>\n",
       "      <td>Parque Industrial</td>\n",
       "      <td>False</td>\n",
       "      <td>False</td>\n",
       "      <td>False</td>\n",
       "      <td>False</td>\n",
       "      <td>False</td>\n",
       "      <td>False</td>\n",
       "      <td>No</td>\n",
       "    </tr>\n",
       "  </tbody>\n",
       "</table>\n",
       "</div>"
      ],
      "text/plain": [
       "          patient_id gender       scheduled_day appointment_day  age  \\\n",
       "75199  8255992453538      F 2016-05-05 10:48:59      2016-05-05   17   \n",
       "\n",
       "           neighbourhood  scholarship  hipertension  diabetic  alcoholic  \\\n",
       "75199  Parque Industrial        False         False     False      False   \n",
       "\n",
       "       handicap  sms_received no_show  \n",
       "75199     False         False      No  "
      ]
     },
     "execution_count": 38,
     "metadata": {},
     "output_type": "execute_result"
    }
   ],
   "source": [
    "df.query('neighbourhood == \"Parque Industrial\"')"
   ]
  },
  {
   "cell_type": "code",
   "execution_count": 39,
   "metadata": {},
   "outputs": [
    {
     "data": {
      "text/html": [
       "<div>\n",
       "<style scoped>\n",
       "    .dataframe tbody tr th:only-of-type {\n",
       "        vertical-align: middle;\n",
       "    }\n",
       "\n",
       "    .dataframe tbody tr th {\n",
       "        vertical-align: top;\n",
       "    }\n",
       "\n",
       "    .dataframe thead th {\n",
       "        text-align: right;\n",
       "    }\n",
       "</style>\n",
       "<table border=\"1\" class=\"dataframe\">\n",
       "  <thead>\n",
       "    <tr style=\"text-align: right;\">\n",
       "      <th></th>\n",
       "      <th>patient_id</th>\n",
       "      <th>gender</th>\n",
       "      <th>scheduled_day</th>\n",
       "      <th>appointment_day</th>\n",
       "      <th>age</th>\n",
       "      <th>neighbourhood</th>\n",
       "      <th>scholarship</th>\n",
       "      <th>hipertension</th>\n",
       "      <th>diabetic</th>\n",
       "      <th>alcoholic</th>\n",
       "      <th>handicap</th>\n",
       "      <th>sms_received</th>\n",
       "      <th>no_show</th>\n",
       "    </tr>\n",
       "  </thead>\n",
       "  <tbody>\n",
       "    <tr>\n",
       "      <th>446</th>\n",
       "      <td>24494241866</td>\n",
       "      <td>F</td>\n",
       "      <td>2016-04-08 14:13:23</td>\n",
       "      <td>2016-04-29</td>\n",
       "      <td>60</td>\n",
       "      <td>Jardim Camburi</td>\n",
       "      <td>False</td>\n",
       "      <td>False</td>\n",
       "      <td>False</td>\n",
       "      <td>False</td>\n",
       "      <td>False</td>\n",
       "      <td>True</td>\n",
       "      <td>Yes</td>\n",
       "    </tr>\n",
       "    <tr>\n",
       "      <th>448</th>\n",
       "      <td>62818436793537</td>\n",
       "      <td>M</td>\n",
       "      <td>2016-04-11 08:06:06</td>\n",
       "      <td>2016-04-29</td>\n",
       "      <td>12</td>\n",
       "      <td>Jardim Camburi</td>\n",
       "      <td>False</td>\n",
       "      <td>False</td>\n",
       "      <td>False</td>\n",
       "      <td>False</td>\n",
       "      <td>False</td>\n",
       "      <td>True</td>\n",
       "      <td>Yes</td>\n",
       "    </tr>\n",
       "    <tr>\n",
       "      <th>575</th>\n",
       "      <td>299778815147872</td>\n",
       "      <td>M</td>\n",
       "      <td>2016-04-20 16:09:23</td>\n",
       "      <td>2016-04-29</td>\n",
       "      <td>23</td>\n",
       "      <td>Jardim Camburi</td>\n",
       "      <td>False</td>\n",
       "      <td>False</td>\n",
       "      <td>False</td>\n",
       "      <td>False</td>\n",
       "      <td>False</td>\n",
       "      <td>True</td>\n",
       "      <td>Yes</td>\n",
       "    </tr>\n",
       "    <tr>\n",
       "      <th>610</th>\n",
       "      <td>3385223672972</td>\n",
       "      <td>M</td>\n",
       "      <td>2016-04-28 10:37:09</td>\n",
       "      <td>2016-04-29</td>\n",
       "      <td>48</td>\n",
       "      <td>Jardim Camburi</td>\n",
       "      <td>False</td>\n",
       "      <td>False</td>\n",
       "      <td>False</td>\n",
       "      <td>False</td>\n",
       "      <td>False</td>\n",
       "      <td>False</td>\n",
       "      <td>Yes</td>\n",
       "    </tr>\n",
       "    <tr>\n",
       "      <th>1960</th>\n",
       "      <td>975822937729569</td>\n",
       "      <td>M</td>\n",
       "      <td>2016-04-27 10:59:08</td>\n",
       "      <td>2016-04-29</td>\n",
       "      <td>17</td>\n",
       "      <td>Jardim Camburi</td>\n",
       "      <td>False</td>\n",
       "      <td>False</td>\n",
       "      <td>False</td>\n",
       "      <td>False</td>\n",
       "      <td>False</td>\n",
       "      <td>False</td>\n",
       "      <td>Yes</td>\n",
       "    </tr>\n",
       "    <tr>\n",
       "      <th>2325</th>\n",
       "      <td>7317142324454</td>\n",
       "      <td>M</td>\n",
       "      <td>2016-04-27 07:03:50</td>\n",
       "      <td>2016-04-29</td>\n",
       "      <td>0</td>\n",
       "      <td>Jardim Camburi</td>\n",
       "      <td>False</td>\n",
       "      <td>False</td>\n",
       "      <td>False</td>\n",
       "      <td>False</td>\n",
       "      <td>False</td>\n",
       "      <td>False</td>\n",
       "      <td>Yes</td>\n",
       "    </tr>\n",
       "    <tr>\n",
       "      <th>3125</th>\n",
       "      <td>634733238794218</td>\n",
       "      <td>M</td>\n",
       "      <td>2016-04-27 08:07:33</td>\n",
       "      <td>2016-04-29</td>\n",
       "      <td>12</td>\n",
       "      <td>Jardim Camburi</td>\n",
       "      <td>False</td>\n",
       "      <td>False</td>\n",
       "      <td>False</td>\n",
       "      <td>False</td>\n",
       "      <td>False</td>\n",
       "      <td>False</td>\n",
       "      <td>Yes</td>\n",
       "    </tr>\n",
       "    <tr>\n",
       "      <th>3141</th>\n",
       "      <td>64329288796396</td>\n",
       "      <td>F</td>\n",
       "      <td>2016-04-27 15:06:50</td>\n",
       "      <td>2016-04-29</td>\n",
       "      <td>20</td>\n",
       "      <td>Jardim Camburi</td>\n",
       "      <td>False</td>\n",
       "      <td>False</td>\n",
       "      <td>False</td>\n",
       "      <td>False</td>\n",
       "      <td>False</td>\n",
       "      <td>False</td>\n",
       "      <td>Yes</td>\n",
       "    </tr>\n",
       "    <tr>\n",
       "      <th>3767</th>\n",
       "      <td>762756363323985</td>\n",
       "      <td>M</td>\n",
       "      <td>2016-05-03 11:58:23</td>\n",
       "      <td>2016-05-05</td>\n",
       "      <td>53</td>\n",
       "      <td>Jardim Camburi</td>\n",
       "      <td>False</td>\n",
       "      <td>False</td>\n",
       "      <td>False</td>\n",
       "      <td>False</td>\n",
       "      <td>False</td>\n",
       "      <td>False</td>\n",
       "      <td>Yes</td>\n",
       "    </tr>\n",
       "    <tr>\n",
       "      <th>3869</th>\n",
       "      <td>959494585246699</td>\n",
       "      <td>M</td>\n",
       "      <td>2016-05-10 15:32:53</td>\n",
       "      <td>2016-05-12</td>\n",
       "      <td>52</td>\n",
       "      <td>Jardim Camburi</td>\n",
       "      <td>False</td>\n",
       "      <td>False</td>\n",
       "      <td>False</td>\n",
       "      <td>False</td>\n",
       "      <td>False</td>\n",
       "      <td>False</td>\n",
       "      <td>Yes</td>\n",
       "    </tr>\n",
       "    <tr>\n",
       "      <th>4301</th>\n",
       "      <td>6436318597264</td>\n",
       "      <td>M</td>\n",
       "      <td>2016-05-06 10:42:33</td>\n",
       "      <td>2016-05-10</td>\n",
       "      <td>61</td>\n",
       "      <td>Jardim Camburi</td>\n",
       "      <td>False</td>\n",
       "      <td>False</td>\n",
       "      <td>False</td>\n",
       "      <td>False</td>\n",
       "      <td>False</td>\n",
       "      <td>True</td>\n",
       "      <td>Yes</td>\n",
       "    </tr>\n",
       "    <tr>\n",
       "      <th>4313</th>\n",
       "      <td>441749369658899</td>\n",
       "      <td>M</td>\n",
       "      <td>2016-05-25 15:49:39</td>\n",
       "      <td>2016-05-30</td>\n",
       "      <td>76</td>\n",
       "      <td>Jardim Camburi</td>\n",
       "      <td>False</td>\n",
       "      <td>False</td>\n",
       "      <td>False</td>\n",
       "      <td>False</td>\n",
       "      <td>False</td>\n",
       "      <td>True</td>\n",
       "      <td>Yes</td>\n",
       "    </tr>\n",
       "    <tr>\n",
       "      <th>4356</th>\n",
       "      <td>2146356439466</td>\n",
       "      <td>F</td>\n",
       "      <td>2016-05-24 15:59:06</td>\n",
       "      <td>2016-05-30</td>\n",
       "      <td>7</td>\n",
       "      <td>Jardim Camburi</td>\n",
       "      <td>False</td>\n",
       "      <td>False</td>\n",
       "      <td>False</td>\n",
       "      <td>False</td>\n",
       "      <td>False</td>\n",
       "      <td>True</td>\n",
       "      <td>Yes</td>\n",
       "    </tr>\n",
       "    <tr>\n",
       "      <th>4372</th>\n",
       "      <td>65565257915</td>\n",
       "      <td>F</td>\n",
       "      <td>2016-05-20 18:44:03</td>\n",
       "      <td>2016-05-24</td>\n",
       "      <td>40</td>\n",
       "      <td>Jardim Camburi</td>\n",
       "      <td>False</td>\n",
       "      <td>False</td>\n",
       "      <td>False</td>\n",
       "      <td>False</td>\n",
       "      <td>False</td>\n",
       "      <td>True</td>\n",
       "      <td>Yes</td>\n",
       "    </tr>\n",
       "    <tr>\n",
       "      <th>4386</th>\n",
       "      <td>69747677576979</td>\n",
       "      <td>M</td>\n",
       "      <td>2016-04-28 12:57:51</td>\n",
       "      <td>2016-05-02</td>\n",
       "      <td>52</td>\n",
       "      <td>Jardim Camburi</td>\n",
       "      <td>False</td>\n",
       "      <td>False</td>\n",
       "      <td>False</td>\n",
       "      <td>False</td>\n",
       "      <td>False</td>\n",
       "      <td>True</td>\n",
       "      <td>Yes</td>\n",
       "    </tr>\n",
       "    <tr>\n",
       "      <th>4487</th>\n",
       "      <td>65565257915</td>\n",
       "      <td>F</td>\n",
       "      <td>2016-05-09 18:16:22</td>\n",
       "      <td>2016-05-20</td>\n",
       "      <td>40</td>\n",
       "      <td>Jardim Camburi</td>\n",
       "      <td>False</td>\n",
       "      <td>False</td>\n",
       "      <td>False</td>\n",
       "      <td>False</td>\n",
       "      <td>False</td>\n",
       "      <td>False</td>\n",
       "      <td>Yes</td>\n",
       "    </tr>\n",
       "    <tr>\n",
       "      <th>4525</th>\n",
       "      <td>232326836592</td>\n",
       "      <td>M</td>\n",
       "      <td>2016-05-09 14:52:34</td>\n",
       "      <td>2016-05-12</td>\n",
       "      <td>26</td>\n",
       "      <td>Jardim Camburi</td>\n",
       "      <td>False</td>\n",
       "      <td>False</td>\n",
       "      <td>False</td>\n",
       "      <td>False</td>\n",
       "      <td>False</td>\n",
       "      <td>False</td>\n",
       "      <td>Yes</td>\n",
       "    </tr>\n",
       "    <tr>\n",
       "      <th>4609</th>\n",
       "      <td>413552777937785</td>\n",
       "      <td>F</td>\n",
       "      <td>2016-05-09 18:16:49</td>\n",
       "      <td>2016-05-16</td>\n",
       "      <td>48</td>\n",
       "      <td>Jardim Camburi</td>\n",
       "      <td>False</td>\n",
       "      <td>False</td>\n",
       "      <td>False</td>\n",
       "      <td>False</td>\n",
       "      <td>False</td>\n",
       "      <td>False</td>\n",
       "      <td>Yes</td>\n",
       "    </tr>\n",
       "    <tr>\n",
       "      <th>4612</th>\n",
       "      <td>93436563142918</td>\n",
       "      <td>F</td>\n",
       "      <td>2016-05-09 18:16:58</td>\n",
       "      <td>2016-05-16</td>\n",
       "      <td>15</td>\n",
       "      <td>Jardim Camburi</td>\n",
       "      <td>True</td>\n",
       "      <td>False</td>\n",
       "      <td>False</td>\n",
       "      <td>False</td>\n",
       "      <td>False</td>\n",
       "      <td>False</td>\n",
       "      <td>Yes</td>\n",
       "    </tr>\n",
       "    <tr>\n",
       "      <th>4616</th>\n",
       "      <td>329445562457361</td>\n",
       "      <td>F</td>\n",
       "      <td>2016-05-02 11:22:45</td>\n",
       "      <td>2016-05-09</td>\n",
       "      <td>71</td>\n",
       "      <td>Jardim Camburi</td>\n",
       "      <td>False</td>\n",
       "      <td>False</td>\n",
       "      <td>False</td>\n",
       "      <td>False</td>\n",
       "      <td>False</td>\n",
       "      <td>False</td>\n",
       "      <td>Yes</td>\n",
       "    </tr>\n",
       "    <tr>\n",
       "      <th>4653</th>\n",
       "      <td>23946273141</td>\n",
       "      <td>F</td>\n",
       "      <td>2016-05-02 11:26:36</td>\n",
       "      <td>2016-05-04</td>\n",
       "      <td>18</td>\n",
       "      <td>Jardim Camburi</td>\n",
       "      <td>False</td>\n",
       "      <td>False</td>\n",
       "      <td>False</td>\n",
       "      <td>False</td>\n",
       "      <td>False</td>\n",
       "      <td>False</td>\n",
       "      <td>Yes</td>\n",
       "    </tr>\n",
       "    <tr>\n",
       "      <th>4656</th>\n",
       "      <td>879847192396</td>\n",
       "      <td>F</td>\n",
       "      <td>2016-05-02 11:23:58</td>\n",
       "      <td>2016-05-11</td>\n",
       "      <td>22</td>\n",
       "      <td>Jardim Camburi</td>\n",
       "      <td>False</td>\n",
       "      <td>False</td>\n",
       "      <td>False</td>\n",
       "      <td>False</td>\n",
       "      <td>False</td>\n",
       "      <td>True</td>\n",
       "      <td>Yes</td>\n",
       "    </tr>\n",
       "    <tr>\n",
       "      <th>4672</th>\n",
       "      <td>31542797894273</td>\n",
       "      <td>M</td>\n",
       "      <td>2016-05-09 18:20:59</td>\n",
       "      <td>2016-05-19</td>\n",
       "      <td>13</td>\n",
       "      <td>Jardim Camburi</td>\n",
       "      <td>False</td>\n",
       "      <td>False</td>\n",
       "      <td>False</td>\n",
       "      <td>False</td>\n",
       "      <td>False</td>\n",
       "      <td>False</td>\n",
       "      <td>Yes</td>\n",
       "    </tr>\n",
       "    <tr>\n",
       "      <th>4743</th>\n",
       "      <td>16439284156161</td>\n",
       "      <td>F</td>\n",
       "      <td>2016-05-13 08:43:25</td>\n",
       "      <td>2016-05-17</td>\n",
       "      <td>41</td>\n",
       "      <td>Jardim Camburi</td>\n",
       "      <td>True</td>\n",
       "      <td>False</td>\n",
       "      <td>False</td>\n",
       "      <td>False</td>\n",
       "      <td>False</td>\n",
       "      <td>False</td>\n",
       "      <td>Yes</td>\n",
       "    </tr>\n",
       "    <tr>\n",
       "      <th>4794</th>\n",
       "      <td>872496493658793</td>\n",
       "      <td>M</td>\n",
       "      <td>2016-05-03 15:14:30</td>\n",
       "      <td>2016-05-05</td>\n",
       "      <td>15</td>\n",
       "      <td>Jardim Camburi</td>\n",
       "      <td>False</td>\n",
       "      <td>False</td>\n",
       "      <td>False</td>\n",
       "      <td>False</td>\n",
       "      <td>False</td>\n",
       "      <td>False</td>\n",
       "      <td>Yes</td>\n",
       "    </tr>\n",
       "    <tr>\n",
       "      <th>4971</th>\n",
       "      <td>35874592525299</td>\n",
       "      <td>F</td>\n",
       "      <td>2016-05-04 17:10:48</td>\n",
       "      <td>2016-05-06</td>\n",
       "      <td>61</td>\n",
       "      <td>Jardim Camburi</td>\n",
       "      <td>False</td>\n",
       "      <td>False</td>\n",
       "      <td>False</td>\n",
       "      <td>True</td>\n",
       "      <td>False</td>\n",
       "      <td>False</td>\n",
       "      <td>Yes</td>\n",
       "    </tr>\n",
       "    <tr>\n",
       "      <th>4975</th>\n",
       "      <td>441749369658899</td>\n",
       "      <td>M</td>\n",
       "      <td>2016-05-10 18:10:00</td>\n",
       "      <td>2016-05-13</td>\n",
       "      <td>76</td>\n",
       "      <td>Jardim Camburi</td>\n",
       "      <td>False</td>\n",
       "      <td>False</td>\n",
       "      <td>False</td>\n",
       "      <td>False</td>\n",
       "      <td>False</td>\n",
       "      <td>False</td>\n",
       "      <td>Yes</td>\n",
       "    </tr>\n",
       "    <tr>\n",
       "      <th>4981</th>\n",
       "      <td>1124221426471</td>\n",
       "      <td>M</td>\n",
       "      <td>2016-05-04 17:09:59</td>\n",
       "      <td>2016-05-06</td>\n",
       "      <td>64</td>\n",
       "      <td>Jardim Camburi</td>\n",
       "      <td>False</td>\n",
       "      <td>True</td>\n",
       "      <td>False</td>\n",
       "      <td>False</td>\n",
       "      <td>False</td>\n",
       "      <td>False</td>\n",
       "      <td>Yes</td>\n",
       "    </tr>\n",
       "    <tr>\n",
       "      <th>4983</th>\n",
       "      <td>559657955895319</td>\n",
       "      <td>F</td>\n",
       "      <td>2016-05-10 18:09:18</td>\n",
       "      <td>2016-05-13</td>\n",
       "      <td>51</td>\n",
       "      <td>Jardim Camburi</td>\n",
       "      <td>False</td>\n",
       "      <td>False</td>\n",
       "      <td>False</td>\n",
       "      <td>False</td>\n",
       "      <td>False</td>\n",
       "      <td>False</td>\n",
       "      <td>Yes</td>\n",
       "    </tr>\n",
       "    <tr>\n",
       "      <th>5016</th>\n",
       "      <td>9861674896417</td>\n",
       "      <td>M</td>\n",
       "      <td>2016-05-10 12:23:23</td>\n",
       "      <td>2016-05-12</td>\n",
       "      <td>55</td>\n",
       "      <td>Jardim Camburi</td>\n",
       "      <td>False</td>\n",
       "      <td>False</td>\n",
       "      <td>False</td>\n",
       "      <td>False</td>\n",
       "      <td>False</td>\n",
       "      <td>False</td>\n",
       "      <td>Yes</td>\n",
       "    </tr>\n",
       "    <tr>\n",
       "      <th>...</th>\n",
       "      <td>...</td>\n",
       "      <td>...</td>\n",
       "      <td>...</td>\n",
       "      <td>...</td>\n",
       "      <td>...</td>\n",
       "      <td>...</td>\n",
       "      <td>...</td>\n",
       "      <td>...</td>\n",
       "      <td>...</td>\n",
       "      <td>...</td>\n",
       "      <td>...</td>\n",
       "      <td>...</td>\n",
       "      <td>...</td>\n",
       "    </tr>\n",
       "    <tr>\n",
       "      <th>103097</th>\n",
       "      <td>5113696779529</td>\n",
       "      <td>F</td>\n",
       "      <td>2016-05-31 07:21:04</td>\n",
       "      <td>2016-06-02</td>\n",
       "      <td>54</td>\n",
       "      <td>Jardim Camburi</td>\n",
       "      <td>False</td>\n",
       "      <td>False</td>\n",
       "      <td>False</td>\n",
       "      <td>False</td>\n",
       "      <td>False</td>\n",
       "      <td>False</td>\n",
       "      <td>Yes</td>\n",
       "    </tr>\n",
       "    <tr>\n",
       "      <th>103134</th>\n",
       "      <td>54548155939623</td>\n",
       "      <td>F</td>\n",
       "      <td>2016-06-02 07:47:02</td>\n",
       "      <td>2016-06-06</td>\n",
       "      <td>42</td>\n",
       "      <td>Jardim Camburi</td>\n",
       "      <td>False</td>\n",
       "      <td>False</td>\n",
       "      <td>False</td>\n",
       "      <td>False</td>\n",
       "      <td>False</td>\n",
       "      <td>True</td>\n",
       "      <td>Yes</td>\n",
       "    </tr>\n",
       "    <tr>\n",
       "      <th>103151</th>\n",
       "      <td>5113696779529</td>\n",
       "      <td>F</td>\n",
       "      <td>2016-05-31 07:03:21</td>\n",
       "      <td>2016-06-02</td>\n",
       "      <td>54</td>\n",
       "      <td>Jardim Camburi</td>\n",
       "      <td>False</td>\n",
       "      <td>False</td>\n",
       "      <td>False</td>\n",
       "      <td>False</td>\n",
       "      <td>False</td>\n",
       "      <td>False</td>\n",
       "      <td>Yes</td>\n",
       "    </tr>\n",
       "    <tr>\n",
       "      <th>103153</th>\n",
       "      <td>592774961655</td>\n",
       "      <td>F</td>\n",
       "      <td>2016-05-31 15:56:19</td>\n",
       "      <td>2016-06-03</td>\n",
       "      <td>76</td>\n",
       "      <td>Jardim Camburi</td>\n",
       "      <td>False</td>\n",
       "      <td>True</td>\n",
       "      <td>False</td>\n",
       "      <td>False</td>\n",
       "      <td>False</td>\n",
       "      <td>True</td>\n",
       "      <td>Yes</td>\n",
       "    </tr>\n",
       "    <tr>\n",
       "      <th>103343</th>\n",
       "      <td>26438892549217</td>\n",
       "      <td>F</td>\n",
       "      <td>2016-05-16 08:58:57</td>\n",
       "      <td>2016-06-06</td>\n",
       "      <td>36</td>\n",
       "      <td>Jardim Camburi</td>\n",
       "      <td>False</td>\n",
       "      <td>False</td>\n",
       "      <td>False</td>\n",
       "      <td>False</td>\n",
       "      <td>False</td>\n",
       "      <td>True</td>\n",
       "      <td>Yes</td>\n",
       "    </tr>\n",
       "    <tr>\n",
       "      <th>103883</th>\n",
       "      <td>621457972738717</td>\n",
       "      <td>M</td>\n",
       "      <td>2016-05-30 07:43:10</td>\n",
       "      <td>2016-06-01</td>\n",
       "      <td>43</td>\n",
       "      <td>Jardim Camburi</td>\n",
       "      <td>False</td>\n",
       "      <td>False</td>\n",
       "      <td>False</td>\n",
       "      <td>False</td>\n",
       "      <td>False</td>\n",
       "      <td>False</td>\n",
       "      <td>Yes</td>\n",
       "    </tr>\n",
       "    <tr>\n",
       "      <th>103896</th>\n",
       "      <td>78527498988634</td>\n",
       "      <td>F</td>\n",
       "      <td>2016-06-06 07:01:44</td>\n",
       "      <td>2016-06-08</td>\n",
       "      <td>57</td>\n",
       "      <td>Jardim Camburi</td>\n",
       "      <td>False</td>\n",
       "      <td>False</td>\n",
       "      <td>False</td>\n",
       "      <td>False</td>\n",
       "      <td>False</td>\n",
       "      <td>False</td>\n",
       "      <td>Yes</td>\n",
       "    </tr>\n",
       "    <tr>\n",
       "      <th>104694</th>\n",
       "      <td>68296845435437</td>\n",
       "      <td>M</td>\n",
       "      <td>2016-06-01 07:58:36</td>\n",
       "      <td>2016-06-03</td>\n",
       "      <td>60</td>\n",
       "      <td>Jardim Camburi</td>\n",
       "      <td>False</td>\n",
       "      <td>False</td>\n",
       "      <td>False</td>\n",
       "      <td>False</td>\n",
       "      <td>False</td>\n",
       "      <td>False</td>\n",
       "      <td>Yes</td>\n",
       "    </tr>\n",
       "    <tr>\n",
       "      <th>104706</th>\n",
       "      <td>399493642329913</td>\n",
       "      <td>M</td>\n",
       "      <td>2016-05-31 07:24:23</td>\n",
       "      <td>2016-06-02</td>\n",
       "      <td>7</td>\n",
       "      <td>Jardim Camburi</td>\n",
       "      <td>False</td>\n",
       "      <td>False</td>\n",
       "      <td>False</td>\n",
       "      <td>False</td>\n",
       "      <td>False</td>\n",
       "      <td>False</td>\n",
       "      <td>Yes</td>\n",
       "    </tr>\n",
       "    <tr>\n",
       "      <th>104710</th>\n",
       "      <td>38379268858445</td>\n",
       "      <td>M</td>\n",
       "      <td>2016-06-06 09:21:27</td>\n",
       "      <td>2016-06-08</td>\n",
       "      <td>37</td>\n",
       "      <td>Jardim Camburi</td>\n",
       "      <td>False</td>\n",
       "      <td>False</td>\n",
       "      <td>False</td>\n",
       "      <td>False</td>\n",
       "      <td>False</td>\n",
       "      <td>False</td>\n",
       "      <td>Yes</td>\n",
       "    </tr>\n",
       "    <tr>\n",
       "      <th>104820</th>\n",
       "      <td>867914616969136</td>\n",
       "      <td>M</td>\n",
       "      <td>2016-06-03 07:08:23</td>\n",
       "      <td>2016-06-07</td>\n",
       "      <td>20</td>\n",
       "      <td>Jardim Camburi</td>\n",
       "      <td>False</td>\n",
       "      <td>False</td>\n",
       "      <td>False</td>\n",
       "      <td>False</td>\n",
       "      <td>False</td>\n",
       "      <td>True</td>\n",
       "      <td>Yes</td>\n",
       "    </tr>\n",
       "    <tr>\n",
       "      <th>104829</th>\n",
       "      <td>35355914117926</td>\n",
       "      <td>F</td>\n",
       "      <td>2016-06-03 07:06:26</td>\n",
       "      <td>2016-06-07</td>\n",
       "      <td>61</td>\n",
       "      <td>Jardim Camburi</td>\n",
       "      <td>False</td>\n",
       "      <td>False</td>\n",
       "      <td>False</td>\n",
       "      <td>False</td>\n",
       "      <td>False</td>\n",
       "      <td>True</td>\n",
       "      <td>Yes</td>\n",
       "    </tr>\n",
       "    <tr>\n",
       "      <th>105465</th>\n",
       "      <td>39371132366835</td>\n",
       "      <td>F</td>\n",
       "      <td>2016-05-24 13:11:21</td>\n",
       "      <td>2016-06-06</td>\n",
       "      <td>85</td>\n",
       "      <td>Jardim Camburi</td>\n",
       "      <td>False</td>\n",
       "      <td>False</td>\n",
       "      <td>False</td>\n",
       "      <td>False</td>\n",
       "      <td>False</td>\n",
       "      <td>True</td>\n",
       "      <td>Yes</td>\n",
       "    </tr>\n",
       "    <tr>\n",
       "      <th>106962</th>\n",
       "      <td>9397443633926</td>\n",
       "      <td>F</td>\n",
       "      <td>2016-06-03 06:39:08</td>\n",
       "      <td>2016-06-07</td>\n",
       "      <td>13</td>\n",
       "      <td>Jardim Camburi</td>\n",
       "      <td>True</td>\n",
       "      <td>False</td>\n",
       "      <td>False</td>\n",
       "      <td>False</td>\n",
       "      <td>False</td>\n",
       "      <td>True</td>\n",
       "      <td>Yes</td>\n",
       "    </tr>\n",
       "    <tr>\n",
       "      <th>107624</th>\n",
       "      <td>98388764936859</td>\n",
       "      <td>F</td>\n",
       "      <td>2016-06-02 06:39:41</td>\n",
       "      <td>2016-06-06</td>\n",
       "      <td>55</td>\n",
       "      <td>Jardim Camburi</td>\n",
       "      <td>False</td>\n",
       "      <td>False</td>\n",
       "      <td>False</td>\n",
       "      <td>False</td>\n",
       "      <td>False</td>\n",
       "      <td>True</td>\n",
       "      <td>Yes</td>\n",
       "    </tr>\n",
       "    <tr>\n",
       "      <th>107723</th>\n",
       "      <td>957185353792</td>\n",
       "      <td>F</td>\n",
       "      <td>2016-06-03 07:30:28</td>\n",
       "      <td>2016-06-07</td>\n",
       "      <td>55</td>\n",
       "      <td>Jardim Camburi</td>\n",
       "      <td>False</td>\n",
       "      <td>False</td>\n",
       "      <td>False</td>\n",
       "      <td>False</td>\n",
       "      <td>False</td>\n",
       "      <td>True</td>\n",
       "      <td>Yes</td>\n",
       "    </tr>\n",
       "    <tr>\n",
       "      <th>108202</th>\n",
       "      <td>959419472216364</td>\n",
       "      <td>M</td>\n",
       "      <td>2016-06-01 14:26:21</td>\n",
       "      <td>2016-06-03</td>\n",
       "      <td>41</td>\n",
       "      <td>Jardim Camburi</td>\n",
       "      <td>False</td>\n",
       "      <td>False</td>\n",
       "      <td>False</td>\n",
       "      <td>False</td>\n",
       "      <td>False</td>\n",
       "      <td>False</td>\n",
       "      <td>Yes</td>\n",
       "    </tr>\n",
       "    <tr>\n",
       "      <th>108850</th>\n",
       "      <td>6141832656181</td>\n",
       "      <td>M</td>\n",
       "      <td>2016-05-31 08:37:28</td>\n",
       "      <td>2016-06-02</td>\n",
       "      <td>28</td>\n",
       "      <td>Jardim Camburi</td>\n",
       "      <td>False</td>\n",
       "      <td>False</td>\n",
       "      <td>False</td>\n",
       "      <td>False</td>\n",
       "      <td>False</td>\n",
       "      <td>False</td>\n",
       "      <td>Yes</td>\n",
       "    </tr>\n",
       "    <tr>\n",
       "      <th>109192</th>\n",
       "      <td>383119211288</td>\n",
       "      <td>M</td>\n",
       "      <td>2016-05-16 08:04:16</td>\n",
       "      <td>2016-06-01</td>\n",
       "      <td>46</td>\n",
       "      <td>Jardim Camburi</td>\n",
       "      <td>False</td>\n",
       "      <td>False</td>\n",
       "      <td>False</td>\n",
       "      <td>False</td>\n",
       "      <td>False</td>\n",
       "      <td>True</td>\n",
       "      <td>Yes</td>\n",
       "    </tr>\n",
       "    <tr>\n",
       "      <th>109498</th>\n",
       "      <td>32377465687955</td>\n",
       "      <td>F</td>\n",
       "      <td>2016-05-30 11:29:42</td>\n",
       "      <td>2016-06-01</td>\n",
       "      <td>67</td>\n",
       "      <td>Jardim Camburi</td>\n",
       "      <td>False</td>\n",
       "      <td>False</td>\n",
       "      <td>False</td>\n",
       "      <td>False</td>\n",
       "      <td>False</td>\n",
       "      <td>False</td>\n",
       "      <td>Yes</td>\n",
       "    </tr>\n",
       "    <tr>\n",
       "      <th>109508</th>\n",
       "      <td>14187185921874</td>\n",
       "      <td>F</td>\n",
       "      <td>2016-06-06 16:09:50</td>\n",
       "      <td>2016-06-08</td>\n",
       "      <td>48</td>\n",
       "      <td>Jardim Camburi</td>\n",
       "      <td>False</td>\n",
       "      <td>False</td>\n",
       "      <td>False</td>\n",
       "      <td>False</td>\n",
       "      <td>False</td>\n",
       "      <td>False</td>\n",
       "      <td>Yes</td>\n",
       "    </tr>\n",
       "    <tr>\n",
       "      <th>109568</th>\n",
       "      <td>183719586595</td>\n",
       "      <td>M</td>\n",
       "      <td>2016-05-30 08:00:44</td>\n",
       "      <td>2016-06-01</td>\n",
       "      <td>10</td>\n",
       "      <td>Jardim Camburi</td>\n",
       "      <td>False</td>\n",
       "      <td>False</td>\n",
       "      <td>False</td>\n",
       "      <td>False</td>\n",
       "      <td>False</td>\n",
       "      <td>False</td>\n",
       "      <td>Yes</td>\n",
       "    </tr>\n",
       "    <tr>\n",
       "      <th>109589</th>\n",
       "      <td>72935551476</td>\n",
       "      <td>F</td>\n",
       "      <td>2016-06-02 15:44:46</td>\n",
       "      <td>2016-06-06</td>\n",
       "      <td>31</td>\n",
       "      <td>Jardim Camburi</td>\n",
       "      <td>False</td>\n",
       "      <td>False</td>\n",
       "      <td>False</td>\n",
       "      <td>False</td>\n",
       "      <td>False</td>\n",
       "      <td>True</td>\n",
       "      <td>Yes</td>\n",
       "    </tr>\n",
       "    <tr>\n",
       "      <th>109757</th>\n",
       "      <td>76179921334383</td>\n",
       "      <td>M</td>\n",
       "      <td>2016-06-06 07:17:26</td>\n",
       "      <td>2016-06-08</td>\n",
       "      <td>73</td>\n",
       "      <td>Jardim Camburi</td>\n",
       "      <td>False</td>\n",
       "      <td>False</td>\n",
       "      <td>False</td>\n",
       "      <td>False</td>\n",
       "      <td>False</td>\n",
       "      <td>False</td>\n",
       "      <td>Yes</td>\n",
       "    </tr>\n",
       "    <tr>\n",
       "      <th>109809</th>\n",
       "      <td>79561294829894</td>\n",
       "      <td>F</td>\n",
       "      <td>2016-06-03 07:27:52</td>\n",
       "      <td>2016-06-07</td>\n",
       "      <td>65</td>\n",
       "      <td>Jardim Camburi</td>\n",
       "      <td>False</td>\n",
       "      <td>False</td>\n",
       "      <td>False</td>\n",
       "      <td>False</td>\n",
       "      <td>False</td>\n",
       "      <td>True</td>\n",
       "      <td>Yes</td>\n",
       "    </tr>\n",
       "    <tr>\n",
       "      <th>109838</th>\n",
       "      <td>5289177614313</td>\n",
       "      <td>M</td>\n",
       "      <td>2016-06-03 08:53:01</td>\n",
       "      <td>2016-06-07</td>\n",
       "      <td>68</td>\n",
       "      <td>Jardim Camburi</td>\n",
       "      <td>False</td>\n",
       "      <td>False</td>\n",
       "      <td>False</td>\n",
       "      <td>False</td>\n",
       "      <td>False</td>\n",
       "      <td>True</td>\n",
       "      <td>Yes</td>\n",
       "    </tr>\n",
       "    <tr>\n",
       "      <th>109992</th>\n",
       "      <td>496891744474147</td>\n",
       "      <td>F</td>\n",
       "      <td>2016-06-02 13:51:52</td>\n",
       "      <td>2016-06-06</td>\n",
       "      <td>63</td>\n",
       "      <td>Jardim Camburi</td>\n",
       "      <td>False</td>\n",
       "      <td>False</td>\n",
       "      <td>False</td>\n",
       "      <td>False</td>\n",
       "      <td>False</td>\n",
       "      <td>True</td>\n",
       "      <td>Yes</td>\n",
       "    </tr>\n",
       "    <tr>\n",
       "      <th>110095</th>\n",
       "      <td>415876789177954</td>\n",
       "      <td>F</td>\n",
       "      <td>2016-05-24 15:58:41</td>\n",
       "      <td>2016-06-01</td>\n",
       "      <td>10</td>\n",
       "      <td>Jardim Camburi</td>\n",
       "      <td>False</td>\n",
       "      <td>False</td>\n",
       "      <td>False</td>\n",
       "      <td>False</td>\n",
       "      <td>False</td>\n",
       "      <td>True</td>\n",
       "      <td>Yes</td>\n",
       "    </tr>\n",
       "    <tr>\n",
       "      <th>110194</th>\n",
       "      <td>62561566671256</td>\n",
       "      <td>F</td>\n",
       "      <td>2016-06-01 08:40:09</td>\n",
       "      <td>2016-06-03</td>\n",
       "      <td>52</td>\n",
       "      <td>Jardim Camburi</td>\n",
       "      <td>False</td>\n",
       "      <td>False</td>\n",
       "      <td>False</td>\n",
       "      <td>False</td>\n",
       "      <td>False</td>\n",
       "      <td>False</td>\n",
       "      <td>Yes</td>\n",
       "    </tr>\n",
       "    <tr>\n",
       "      <th>110356</th>\n",
       "      <td>571789196444851</td>\n",
       "      <td>M</td>\n",
       "      <td>2016-05-17 09:17:42</td>\n",
       "      <td>2016-06-08</td>\n",
       "      <td>6</td>\n",
       "      <td>Jardim Camburi</td>\n",
       "      <td>False</td>\n",
       "      <td>False</td>\n",
       "      <td>False</td>\n",
       "      <td>False</td>\n",
       "      <td>False</td>\n",
       "      <td>False</td>\n",
       "      <td>Yes</td>\n",
       "    </tr>\n",
       "  </tbody>\n",
       "</table>\n",
       "<p>1465 rows × 13 columns</p>\n",
       "</div>"
      ],
      "text/plain": [
       "             patient_id gender       scheduled_day appointment_day  age  \\\n",
       "446         24494241866      F 2016-04-08 14:13:23      2016-04-29   60   \n",
       "448      62818436793537      M 2016-04-11 08:06:06      2016-04-29   12   \n",
       "575     299778815147872      M 2016-04-20 16:09:23      2016-04-29   23   \n",
       "610       3385223672972      M 2016-04-28 10:37:09      2016-04-29   48   \n",
       "1960    975822937729569      M 2016-04-27 10:59:08      2016-04-29   17   \n",
       "2325      7317142324454      M 2016-04-27 07:03:50      2016-04-29    0   \n",
       "3125    634733238794218      M 2016-04-27 08:07:33      2016-04-29   12   \n",
       "3141     64329288796396      F 2016-04-27 15:06:50      2016-04-29   20   \n",
       "3767    762756363323985      M 2016-05-03 11:58:23      2016-05-05   53   \n",
       "3869    959494585246699      M 2016-05-10 15:32:53      2016-05-12   52   \n",
       "4301      6436318597264      M 2016-05-06 10:42:33      2016-05-10   61   \n",
       "4313    441749369658899      M 2016-05-25 15:49:39      2016-05-30   76   \n",
       "4356      2146356439466      F 2016-05-24 15:59:06      2016-05-30    7   \n",
       "4372        65565257915      F 2016-05-20 18:44:03      2016-05-24   40   \n",
       "4386     69747677576979      M 2016-04-28 12:57:51      2016-05-02   52   \n",
       "4487        65565257915      F 2016-05-09 18:16:22      2016-05-20   40   \n",
       "4525       232326836592      M 2016-05-09 14:52:34      2016-05-12   26   \n",
       "4609    413552777937785      F 2016-05-09 18:16:49      2016-05-16   48   \n",
       "4612     93436563142918      F 2016-05-09 18:16:58      2016-05-16   15   \n",
       "4616    329445562457361      F 2016-05-02 11:22:45      2016-05-09   71   \n",
       "4653        23946273141      F 2016-05-02 11:26:36      2016-05-04   18   \n",
       "4656       879847192396      F 2016-05-02 11:23:58      2016-05-11   22   \n",
       "4672     31542797894273      M 2016-05-09 18:20:59      2016-05-19   13   \n",
       "4743     16439284156161      F 2016-05-13 08:43:25      2016-05-17   41   \n",
       "4794    872496493658793      M 2016-05-03 15:14:30      2016-05-05   15   \n",
       "4971     35874592525299      F 2016-05-04 17:10:48      2016-05-06   61   \n",
       "4975    441749369658899      M 2016-05-10 18:10:00      2016-05-13   76   \n",
       "4981      1124221426471      M 2016-05-04 17:09:59      2016-05-06   64   \n",
       "4983    559657955895319      F 2016-05-10 18:09:18      2016-05-13   51   \n",
       "5016      9861674896417      M 2016-05-10 12:23:23      2016-05-12   55   \n",
       "...                 ...    ...                 ...             ...  ...   \n",
       "103097    5113696779529      F 2016-05-31 07:21:04      2016-06-02   54   \n",
       "103134   54548155939623      F 2016-06-02 07:47:02      2016-06-06   42   \n",
       "103151    5113696779529      F 2016-05-31 07:03:21      2016-06-02   54   \n",
       "103153     592774961655      F 2016-05-31 15:56:19      2016-06-03   76   \n",
       "103343   26438892549217      F 2016-05-16 08:58:57      2016-06-06   36   \n",
       "103883  621457972738717      M 2016-05-30 07:43:10      2016-06-01   43   \n",
       "103896   78527498988634      F 2016-06-06 07:01:44      2016-06-08   57   \n",
       "104694   68296845435437      M 2016-06-01 07:58:36      2016-06-03   60   \n",
       "104706  399493642329913      M 2016-05-31 07:24:23      2016-06-02    7   \n",
       "104710   38379268858445      M 2016-06-06 09:21:27      2016-06-08   37   \n",
       "104820  867914616969136      M 2016-06-03 07:08:23      2016-06-07   20   \n",
       "104829   35355914117926      F 2016-06-03 07:06:26      2016-06-07   61   \n",
       "105465   39371132366835      F 2016-05-24 13:11:21      2016-06-06   85   \n",
       "106962    9397443633926      F 2016-06-03 06:39:08      2016-06-07   13   \n",
       "107624   98388764936859      F 2016-06-02 06:39:41      2016-06-06   55   \n",
       "107723     957185353792      F 2016-06-03 07:30:28      2016-06-07   55   \n",
       "108202  959419472216364      M 2016-06-01 14:26:21      2016-06-03   41   \n",
       "108850    6141832656181      M 2016-05-31 08:37:28      2016-06-02   28   \n",
       "109192     383119211288      M 2016-05-16 08:04:16      2016-06-01   46   \n",
       "109498   32377465687955      F 2016-05-30 11:29:42      2016-06-01   67   \n",
       "109508   14187185921874      F 2016-06-06 16:09:50      2016-06-08   48   \n",
       "109568     183719586595      M 2016-05-30 08:00:44      2016-06-01   10   \n",
       "109589      72935551476      F 2016-06-02 15:44:46      2016-06-06   31   \n",
       "109757   76179921334383      M 2016-06-06 07:17:26      2016-06-08   73   \n",
       "109809   79561294829894      F 2016-06-03 07:27:52      2016-06-07   65   \n",
       "109838    5289177614313      M 2016-06-03 08:53:01      2016-06-07   68   \n",
       "109992  496891744474147      F 2016-06-02 13:51:52      2016-06-06   63   \n",
       "110095  415876789177954      F 2016-05-24 15:58:41      2016-06-01   10   \n",
       "110194   62561566671256      F 2016-06-01 08:40:09      2016-06-03   52   \n",
       "110356  571789196444851      M 2016-05-17 09:17:42      2016-06-08    6   \n",
       "\n",
       "         neighbourhood  scholarship  hipertension  diabetic  alcoholic  \\\n",
       "446     Jardim Camburi        False         False     False      False   \n",
       "448     Jardim Camburi        False         False     False      False   \n",
       "575     Jardim Camburi        False         False     False      False   \n",
       "610     Jardim Camburi        False         False     False      False   \n",
       "1960    Jardim Camburi        False         False     False      False   \n",
       "2325    Jardim Camburi        False         False     False      False   \n",
       "3125    Jardim Camburi        False         False     False      False   \n",
       "3141    Jardim Camburi        False         False     False      False   \n",
       "3767    Jardim Camburi        False         False     False      False   \n",
       "3869    Jardim Camburi        False         False     False      False   \n",
       "4301    Jardim Camburi        False         False     False      False   \n",
       "4313    Jardim Camburi        False         False     False      False   \n",
       "4356    Jardim Camburi        False         False     False      False   \n",
       "4372    Jardim Camburi        False         False     False      False   \n",
       "4386    Jardim Camburi        False         False     False      False   \n",
       "4487    Jardim Camburi        False         False     False      False   \n",
       "4525    Jardim Camburi        False         False     False      False   \n",
       "4609    Jardim Camburi        False         False     False      False   \n",
       "4612    Jardim Camburi         True         False     False      False   \n",
       "4616    Jardim Camburi        False         False     False      False   \n",
       "4653    Jardim Camburi        False         False     False      False   \n",
       "4656    Jardim Camburi        False         False     False      False   \n",
       "4672    Jardim Camburi        False         False     False      False   \n",
       "4743    Jardim Camburi         True         False     False      False   \n",
       "4794    Jardim Camburi        False         False     False      False   \n",
       "4971    Jardim Camburi        False         False     False       True   \n",
       "4975    Jardim Camburi        False         False     False      False   \n",
       "4981    Jardim Camburi        False          True     False      False   \n",
       "4983    Jardim Camburi        False         False     False      False   \n",
       "5016    Jardim Camburi        False         False     False      False   \n",
       "...                ...          ...           ...       ...        ...   \n",
       "103097  Jardim Camburi        False         False     False      False   \n",
       "103134  Jardim Camburi        False         False     False      False   \n",
       "103151  Jardim Camburi        False         False     False      False   \n",
       "103153  Jardim Camburi        False          True     False      False   \n",
       "103343  Jardim Camburi        False         False     False      False   \n",
       "103883  Jardim Camburi        False         False     False      False   \n",
       "103896  Jardim Camburi        False         False     False      False   \n",
       "104694  Jardim Camburi        False         False     False      False   \n",
       "104706  Jardim Camburi        False         False     False      False   \n",
       "104710  Jardim Camburi        False         False     False      False   \n",
       "104820  Jardim Camburi        False         False     False      False   \n",
       "104829  Jardim Camburi        False         False     False      False   \n",
       "105465  Jardim Camburi        False         False     False      False   \n",
       "106962  Jardim Camburi         True         False     False      False   \n",
       "107624  Jardim Camburi        False         False     False      False   \n",
       "107723  Jardim Camburi        False         False     False      False   \n",
       "108202  Jardim Camburi        False         False     False      False   \n",
       "108850  Jardim Camburi        False         False     False      False   \n",
       "109192  Jardim Camburi        False         False     False      False   \n",
       "109498  Jardim Camburi        False         False     False      False   \n",
       "109508  Jardim Camburi        False         False     False      False   \n",
       "109568  Jardim Camburi        False         False     False      False   \n",
       "109589  Jardim Camburi        False         False     False      False   \n",
       "109757  Jardim Camburi        False         False     False      False   \n",
       "109809  Jardim Camburi        False         False     False      False   \n",
       "109838  Jardim Camburi        False         False     False      False   \n",
       "109992  Jardim Camburi        False         False     False      False   \n",
       "110095  Jardim Camburi        False         False     False      False   \n",
       "110194  Jardim Camburi        False         False     False      False   \n",
       "110356  Jardim Camburi        False         False     False      False   \n",
       "\n",
       "        handicap  sms_received no_show  \n",
       "446        False          True     Yes  \n",
       "448        False          True     Yes  \n",
       "575        False          True     Yes  \n",
       "610        False         False     Yes  \n",
       "1960       False         False     Yes  \n",
       "2325       False         False     Yes  \n",
       "3125       False         False     Yes  \n",
       "3141       False         False     Yes  \n",
       "3767       False         False     Yes  \n",
       "3869       False         False     Yes  \n",
       "4301       False          True     Yes  \n",
       "4313       False          True     Yes  \n",
       "4356       False          True     Yes  \n",
       "4372       False          True     Yes  \n",
       "4386       False          True     Yes  \n",
       "4487       False         False     Yes  \n",
       "4525       False         False     Yes  \n",
       "4609       False         False     Yes  \n",
       "4612       False         False     Yes  \n",
       "4616       False         False     Yes  \n",
       "4653       False         False     Yes  \n",
       "4656       False          True     Yes  \n",
       "4672       False         False     Yes  \n",
       "4743       False         False     Yes  \n",
       "4794       False         False     Yes  \n",
       "4971       False         False     Yes  \n",
       "4975       False         False     Yes  \n",
       "4981       False         False     Yes  \n",
       "4983       False         False     Yes  \n",
       "5016       False         False     Yes  \n",
       "...          ...           ...     ...  \n",
       "103097     False         False     Yes  \n",
       "103134     False          True     Yes  \n",
       "103151     False         False     Yes  \n",
       "103153     False          True     Yes  \n",
       "103343     False          True     Yes  \n",
       "103883     False         False     Yes  \n",
       "103896     False         False     Yes  \n",
       "104694     False         False     Yes  \n",
       "104706     False         False     Yes  \n",
       "104710     False         False     Yes  \n",
       "104820     False          True     Yes  \n",
       "104829     False          True     Yes  \n",
       "105465     False          True     Yes  \n",
       "106962     False          True     Yes  \n",
       "107624     False          True     Yes  \n",
       "107723     False          True     Yes  \n",
       "108202     False         False     Yes  \n",
       "108850     False         False     Yes  \n",
       "109192     False          True     Yes  \n",
       "109498     False         False     Yes  \n",
       "109508     False         False     Yes  \n",
       "109568     False         False     Yes  \n",
       "109589     False          True     Yes  \n",
       "109757     False         False     Yes  \n",
       "109809     False          True     Yes  \n",
       "109838     False          True     Yes  \n",
       "109992     False          True     Yes  \n",
       "110095     False          True     Yes  \n",
       "110194     False         False     Yes  \n",
       "110356     False         False     Yes  \n",
       "\n",
       "[1465 rows x 13 columns]"
      ]
     },
     "execution_count": 39,
     "metadata": {},
     "output_type": "execute_result"
    }
   ],
   "source": [
    "df_yes.query('neighbourhood == \"Jardim Camburi\"')"
   ]
  },
  {
   "cell_type": "code",
   "execution_count": 40,
   "metadata": {},
   "outputs": [
    {
     "data": {
      "image/png": "[encoded data removed]",
      "text/plain": [
       "<matplotlib.figure.Figure at 0x7f1bdd6cea20>"
      ]
     },
     "metadata": {
      "needs_background": "light"
     },
     "output_type": "display_data"
    }
   ],
   "source": [
    "df_yes['neighbourhood'].value_counts().plot(kind ='barh', figsize = (15,20))\n",
    "plt.ylabel(' Neighbourhood')\n",
    "plt.xlabel('Number of appointments')\n",
    "plt.title('Number of appointments attended per neighbourhood')\n",
    "plt.show()"
   ]
  },
  {
   "cell_type": "markdown",
   "metadata": {},
   "source": [
    "The neighbourhood with the most attendance for booked appointments is Jardim Camburi. The neighbourhood with the least attendance is Parque Industrial, the analysis also shows that there was no attendance at parque Industrial."
   ]
  },
  {
   "cell_type": "markdown",
   "metadata": {},
   "source": [
    "## Age"
   ]
  },
  {
   "cell_type": "code",
   "execution_count": 41,
   "metadata": {},
   "outputs": [
    {
     "data": {
      "text/plain": [
       "<matplotlib.axes._subplots.AxesSubplot at 0x7f1bda26def0>"
      ]
     },
     "execution_count": 41,
     "metadata": {},
     "output_type": "execute_result"
    },
    {
     "data": {
      "image/png": "[encoded data removed]",
      "text/plain": [
       "<matplotlib.figure.Figure at 0x7f1bda228eb8>"
      ]
     },
     "metadata": {
      "needs_background": "light"
     },
     "output_type": "display_data"
    }
   ],
   "source": [
    "df['age'].hist(figsize = (10,8), bins = 20)"
   ]
  },
  {
   "cell_type": "markdown",
   "metadata": {},
   "source": [
    "### From the histogram above it can be observed the the  most patients that booked an appointment are in 0-60 age range"
   ]
  },
  {
   "cell_type": "code",
   "execution_count": 42,
   "metadata": {},
   "outputs": [
    {
     "data": {
      "text/plain": [
       "<matplotlib.axes._subplots.AxesSubplot at 0x7f1bda648cf8>"
      ]
     },
     "execution_count": 42,
     "metadata": {},
     "output_type": "execute_result"
    },
    {
     "data": {
      "image/png": "[encoded data removed]",
      "text/plain": [
       "<matplotlib.figure.Figure at 0x7f1bda648c88>"
      ]
     },
     "metadata": {
      "needs_background": "light"
     },
     "output_type": "display_data"
    }
   ],
   "source": [
    "plt.figure(figsize = (8,8))\n",
    "sns.distplot(df['age'])"
   ]
  },
  {
   "cell_type": "code",
   "execution_count": 43,
   "metadata": {},
   "outputs": [
    {
     "data": {
      "text/plain": [
       "gender\n",
       "F    AxesSubplot(0.125,0.125;0.775x0.755)\n",
       "M    AxesSubplot(0.125,0.125;0.775x0.755)\n",
       "Name: age, dtype: object"
      ]
     },
     "execution_count": 43,
     "metadata": {},
     "output_type": "execute_result"
    },
    {
     "data": {
      "image/png": "[encoded data removed]",
      "text/plain": [
       "<matplotlib.figure.Figure at 0x7f1bda1fca58>"
      ]
     },
     "metadata": {
      "needs_background": "light"
     },
     "output_type": "display_data"
    }
   ],
   "source": [
    "df.groupby('gender')['age'].hist(figsize = (8,8))"
   ]
  },
  {
   "cell_type": "code",
   "execution_count": 44,
   "metadata": {},
   "outputs": [
    {
     "data": {
      "text/plain": [
       "gender  age\n",
       "F       0      319\n",
       "        30     291\n",
       "        19     280\n",
       "        21     270\n",
       "        25     268\n",
       "        22     266\n",
       "        29     263\n",
       "        20     262\n",
       "        23     258\n",
       "        28     255\n",
       "        17     249\n",
       "        18     248\n",
       "        33     240\n",
       "        39     240\n",
       "        31     235\n",
       "        24     231\n",
       "        34     230\n",
       "        36     229\n",
       "        41     229\n",
       "        27     227\n",
       "        26     225\n",
       "        43     224\n",
       "        32     223\n",
       "        38     222\n",
       "        16     221\n",
       "        37     221\n",
       "        15     218\n",
       "        44     216\n",
       "        53     213\n",
       "        49     209\n",
       "              ... \n",
       "M       67      46\n",
       "        61      45\n",
       "        71      39\n",
       "        72      39\n",
       "        73      34\n",
       "        76      30\n",
       "        69      29\n",
       "        70      28\n",
       "        80      28\n",
       "        74      27\n",
       "        77      27\n",
       "        78      27\n",
       "        75      25\n",
       "        82      25\n",
       "        83      21\n",
       "        86      21\n",
       "        79      19\n",
       "        81      18\n",
       "        84      17\n",
       "        85       9\n",
       "        89       8\n",
       "        90       8\n",
       "        87       7\n",
       "        88       6\n",
       "        93       4\n",
       "        92       3\n",
       "        94       2\n",
       "        95       2\n",
       "        91       1\n",
       "        97       1\n",
       "Name: age, Length: 197, dtype: int64"
      ]
     },
     "execution_count": 44,
     "metadata": {},
     "output_type": "execute_result"
    }
   ],
   "source": [
    "df_yes.groupby('gender')['age'].value_counts()"
   ]
  },
  {
   "cell_type": "code",
   "execution_count": 45,
   "metadata": {},
   "outputs": [
    {
     "data": {
      "text/plain": [
       "gender\n",
       "F    AxesSubplot(0.125,0.125;0.775x0.755)\n",
       "M    AxesSubplot(0.125,0.125;0.775x0.755)\n",
       "Name: age, dtype: object"
      ]
     },
     "execution_count": 45,
     "metadata": {},
     "output_type": "execute_result"
    },
    {
     "data": {
      "image/png": "[encoded data removed]",
      "text/plain": [
       "<matplotlib.figure.Figure at 0x7f1bda1cd940>"
      ]
     },
     "metadata": {
      "needs_background": "light"
     },
     "output_type": "display_data"
    }
   ],
   "source": [
    "df_yes.groupby('gender')['age'].hist(figsize = (10,10))"
   ]
  },
  {
   "cell_type": "code",
   "execution_count": 108,
   "metadata": {},
   "outputs": [
    {
     "data": {
      "image/png": "[encoded data removed]",
      "text/plain": [
       "<matplotlib.figure.Figure at 0x7f1bd93c6b00>"
      ]
     },
     "metadata": {
      "needs_background": "light"
     },
     "output_type": "display_data"
    }
   ],
   "source": [
    "# relationship between age and scholarship\n",
    "countplot( (20,30), 'age' ,'scholarship', df, 'Relationship between age and scholarship' )\n"
   ]
  },
  {
   "cell_type": "code",
   "execution_count": 47,
   "metadata": {},
   "outputs": [
    {
     "data": {
      "text/plain": [
       "count    110527.000000\n",
       "mean         37.088883\n",
       "std          23.110190\n",
       "min           0.000000\n",
       "25%          18.000000\n",
       "50%          37.000000\n",
       "75%          55.000000\n",
       "max         115.000000\n",
       "Name: age, dtype: float64"
      ]
     },
     "execution_count": 47,
     "metadata": {},
     "output_type": "execute_result"
    }
   ],
   "source": [
    "df['age'].describe()"
   ]
  },
  {
   "cell_type": "code",
   "execution_count": 48,
   "metadata": {},
   "outputs": [
    {
     "data": {
      "image/png": "[encoded data removed]",
      "text/plain": [
       "<matplotlib.figure.Figure at 0x7f1bda389cf8>"
      ]
     },
     "metadata": {
      "needs_background": "light"
     },
     "output_type": "display_data"
    }
   ],
   "source": [
    "df.groupby('scholarship').age.hist(figsize = (8,8))\n",
    "plt.legend()"
   ]
  },
  {
   "cell_type": "markdown",
   "metadata": {},
   "source": [
    "## Correlation between variables"
   ]
  },
  {
   "cell_type": "code",
   "execution_count": 110,
   "metadata": {},
   "outputs": [
    {
     "data": {
      "text/plain": [
       "Text(0.5,1,'Correlation of variables')"
      ]
     },
     "execution_count": 110,
     "metadata": {},
     "output_type": "execute_result"
    },
    {
     "data": {
      "image/png": "[encoded data removed]",
      "text/plain": [
       "<matplotlib.figure.Figure at 0x7f1bde3cd6a0>"
      ]
     },
     "metadata": {
      "needs_background": "light"
     },
     "output_type": "display_data"
    }
   ],
   "source": [
    "correlation = df.corr()\n",
    "plt.figure(figsize = (10,10))\n",
    "sns.heatmap(correlation)\n",
    "plt.title('Correlation of variables')"
   ]
  },
  {
   "cell_type": "markdown",
   "metadata": {},
   "source": [
    "### What gender and age  show up for appointments ?"
   ]
  },
  {
   "cell_type": "code",
   "execution_count": 118,
   "metadata": {},
   "outputs": [
    {
     "data": {
      "text/plain": [
       "Text(0.5,1,'Distribution of age')"
      ]
     },
     "execution_count": 118,
     "metadata": {},
     "output_type": "execute_result"
    },
    {
     "data": {
      "image/png": "[encoded data removed]",
      "text/plain": [
       "<matplotlib.figure.Figure at 0x7f1bd9b04a58>"
      ]
     },
     "metadata": {
      "needs_background": "light"
     },
     "output_type": "display_data"
    }
   ],
   "source": [
    "plt.figure(figsize= (8,8))\n",
    "sns.boxplot(x = 'age' , y = 'gender' , hue = 'no_show', data = df)\n",
    "plt.title('Distribution of age')"
   ]
  },
  {
   "cell_type": "markdown",
   "metadata": {},
   "source": [
    "### Are patients who received sms more likely to show up for appointments ?"
   ]
  },
  {
   "cell_type": "code",
   "execution_count": 109,
   "metadata": {},
   "outputs": [
    {
     "data": {
      "image/png": "[encoded data removed]",
      "text/plain": [
       "<matplotlib.figure.Figure at 0x7f1bd3e3e080>"
      ]
     },
     "metadata": {
      "needs_background": "light"
     },
     "output_type": "display_data"
    }
   ],
   "source": [
    "countplot( (8,8), 'sms_received' ,'no_show', df, 'Relationship between sms_received and no_show' )"
   ]
  },
  {
   "cell_type": "markdown",
   "metadata": {},
   "source": [
    "From the chart above it is observed that very few patients received sms compared to the total number of patients that booked an appointment. The number of patients who didn't show up for appointments having received sms is greater than the number of patients that showed up for appointmnets. It can also be observed that more number of patients who showed up for appointments didn't receive a sms."
   ]
  },
  {
   "cell_type": "markdown",
   "metadata": {},
   "source": [
    "## What day of the week are patients most likely to show up for appointments ?"
   ]
  },
  {
   "cell_type": "code",
   "execution_count": 52,
   "metadata": {},
   "outputs": [
    {
     "data": {
      "text/plain": [
       "27"
      ]
     },
     "execution_count": 52,
     "metadata": {},
     "output_type": "execute_result"
    }
   ],
   "source": [
    "# What does are patients most likely to show up for appointments\n",
    "df.appointment_day.nunique()"
   ]
  },
  {
   "cell_type": "code",
   "execution_count": 117,
   "metadata": {},
   "outputs": [
    {
     "data": {
      "text/plain": [
       "Text(0.5,1,'Days patients are most likely to show up or miss an appointment')"
      ]
     },
     "execution_count": 117,
     "metadata": {},
     "output_type": "execute_result"
    },
    {
     "data": {
      "image/png": "[encoded data removed]",
      "text/plain": [
       "<matplotlib.figure.Figure at 0x7f1bd9b96ac8>"
      ]
     },
     "metadata": {
      "needs_background": "light"
     },
     "output_type": "display_data"
    }
   ],
   "source": [
    "plt.figure(figsize = (10,10))\n",
    "sns.countplot(y = 'appointment_day', hue = 'no_show', data = df)\n",
    "plt.title('Days patients are most likely to show up or miss an appointment')"
   ]
  },
  {
   "cell_type": "code",
   "execution_count": 113,
   "metadata": {},
   "outputs": [],
   "source": [
    "# creatin a column named day; stating the day of the week.\n",
    "df['day'] = df['appointment_day'].dt.day_name()"
   ]
  },
  {
   "cell_type": "code",
   "execution_count": 114,
   "metadata": {},
   "outputs": [
    {
     "data": {
      "text/plain": [
       "Wednesday    25867\n",
       "Tuesday      25640\n",
       "Monday       22715\n",
       "Friday       19019\n",
       "Thursday     17247\n",
       "Saturday        39\n",
       "Name: day, dtype: int64"
      ]
     },
     "execution_count": 114,
     "metadata": {},
     "output_type": "execute_result"
    }
   ],
   "source": [
    "df['day'].value_counts()"
   ]
  },
  {
   "cell_type": "code",
   "execution_count": 116,
   "metadata": {},
   "outputs": [
    {
     "data": {
      "text/plain": [
       "Text(0.5,1,'Days patients are most likely to show up or miss an appointment')"
      ]
     },
     "execution_count": 116,
     "metadata": {},
     "output_type": "execute_result"
    },
    {
     "data": {
      "image/png": "[encoded data removed]",
      "text/plain": [
       "<matplotlib.figure.Figure at 0x7f1bd9c7b710>"
      ]
     },
     "metadata": {
      "needs_background": "light"
     },
     "output_type": "display_data"
    }
   ],
   "source": [
    "plt.figure(figsize = (12,10))\n",
    "sns.countplot(x = 'day', hue = 'no_show', data = df)\n",
    "plt.title('Days patients are most likely to show up or miss an appointment')"
   ]
  },
  {
   "cell_type": "markdown",
   "metadata": {},
   "source": [
    "It is observed that patients are  most likely to show up for appointments on a tuesday and least likely to show for appointments on a weekend."
   ]
  },
  {
   "cell_type": "markdown",
   "metadata": {},
   "source": [
    "<a id='conclusions'></a>\n",
    "## Conclusions\n",
    "\n",
    "> **Tip**: Finally, summarize your findings and the results that have been performed in relation to the question(s) provided at the beginning of the analysis. Summarize the results accurately, and point out where additional research can be done or where additional information could be useful.\n",
    "\n",
    "#### From the data visualizations above it is observed that:\n",
    "- Females book more appointment than men, this might be a reason why more females show up for appointments.\n",
    "- The age range that showed up for appointment is between 0 - 60 years. There a few outliers in the data.\n",
    "- More appointments were booked mostly in the Jardim Camburi neighbour hood, it was also observed that patients show up for appointments mostly in the neighbourhood. The least attendacnce for appointment was in Parque industrial, haaniv only one booked appointments and no show apppointments.\n",
    "- Scholarships are mostly awarded to the female gender than the male gender.\n",
    "- There is a postive correlation between age and hypertension.\n",
    "- Females between the age range 20 - 40 years show up for appointments.\n",
    "- Males between the age range 18- 45 years show up for appointments.\n",
    "- Most patients are most likely to up for appointments on a weekday than a weekend. Tuesday has the most attendance on a weekday.\n",
    "\n",
    "\n",
    "## Limitations\n",
    "From the data, there are outliers in the age column and neighbourhood which could cause a decrease in normality.\n",
    "There also seems to be little to no correlation among variables as shown in the correlation matrix, making it impossible to show causation. \n"
   ]
  },
  {
   "cell_type": "code",
   "execution_count": 57,
   "metadata": {},
   "outputs": [
    {
     "data": {
      "text/plain": [
       "0"
      ]
     },
     "execution_count": 57,
     "metadata": {},
     "output_type": "execute_result"
    }
   ],
   "source": [
    "from subprocess import call\n",
    "call(['python', '-m', 'nbconvert', 'Investigate_a_Dataset.ipynb'])"
   ]
  },
  {
   "cell_type": "code",
   "execution_count": null,
   "metadata": {},
   "outputs": [],
   "source": []
  }
 ],
 "metadata": {
  "kernelspec": {
   "display_name": "Python 3",
   "language": "python",
   "name": "python3"
  },
  "language_info": {
   "codemirror_mode": {
    "name": "ipython",
    "version": 3
   },
   "file_extension": ".py",
   "mimetype": "text/x-python",
   "name": "python",
   "nbconvert_exporter": "python",
   "pygments_lexer": "ipython3",
   "version": "3.6.3"
  }
 },
 "nbformat": 4,
 "nbformat_minor": 2
}
